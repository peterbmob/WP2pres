{
  "nbformat": 4,
  "nbformat_minor": 0,
  "metadata": {
    "colab": {
      "provenance": [],
      "authorship_tag": "ABX9TyMFH54cjVHDq8A69jINUPnu",
      "include_colab_link": true
    },
    "kernelspec": {
      "name": "python3",
      "display_name": "Python 3"
    },
    "language_info": {
      "name": "python"
    }
  },
  "cells": [
    {
      "cell_type": "markdown",
      "metadata": {
        "id": "view-in-github",
        "colab_type": "text"
      },
      "source": [
        "<a href=\"https://colab.research.google.com/github/peterbmob/WP2pres/blob/main/xtb-ccs.ipynb\" target=\"_parent\"><img src=\"https://colab.research.google.com/assets/colab-badge.svg\" alt=\"Open In Colab\"/></a>"
      ]
    },
    {
      "cell_type": "markdown",
      "source": [
        "# Fast generation of repulsive potentials for tight binding models \n",
        "Peter Broqvist, Thijs Smolders, and Jolla Kullgren \n",
        "\n",
        "\n",
        "### Let's generate a DFTB+CCS model for Li-CH$_3$H$_4$O$_3$\n",
        "\n",
        "This notebook takes you all the way from an ASE database with DFT structures to \n",
        "a SCC-DFTB+CCS model to be used within ASE. In the example, we will start from the xTB-model. \n",
        "\n",
        "\n",
        "<figure>\n",
        "   <img src=\"fig1.png\" width=\"550\" alt='missing' class=\"Figure 1\"/>\n",
        "   <figcaption class=\"figure-caption text-center\"><b>Figure 1</b> Initial steps assumed to occur during the breakdown of EC leading to the formation of LEDC and LEMC.</figcaption>\n",
        "</figure>\n",
        "\n"
      ],
      "metadata": {
        "id": "TBx8Gmo-2AcF"
      }
    },
    {
      "cell_type": "code",
      "source": [],
      "metadata": {
        "id": "V-kNvw6JxWUm"
      },
      "execution_count": 142,
      "outputs": []
    },
    {
      "cell_type": "markdown",
      "source": [
        "## First, we need to set up the environment"
      ],
      "metadata": {
        "id": "zHum7ShL9iDj"
      }
    },
    {
      "cell_type": "code",
      "source": [
        "!conda --version"
      ],
      "metadata": {
        "colab": {
          "base_uri": "https://localhost:8080/"
        },
        "id": "yihLzRD5QBvQ",
        "outputId": "b8022776-ef82-4ae9-8b46-8d0c148bebcc"
      },
      "execution_count": 1,
      "outputs": [
        {
          "output_type": "stream",
          "name": "stdout",
          "text": [
            "/bin/bash: conda: command not found\n"
          ]
        }
      ]
    },
    {
      "cell_type": "code",
      "source": [
        "# Conda is uninstalled every time you rehash yuor environment... \n",
        "#!conda --version\n",
        "#If !conda --version returns no results, install conda with :\n",
        "!pip install -q condacolab\n",
        "import condacolab\n",
        "condacolab.install()\n",
        "     "
      ],
      "metadata": {
        "colab": {
          "base_uri": "https://localhost:8080/"
        },
        "id": "3jW-M64x8hFH",
        "outputId": "fe51ab5e-965f-4f73-d4bb-35770b77681b"
      },
      "execution_count": 1,
      "outputs": [
        {
          "output_type": "stream",
          "name": "stdout",
          "text": [
            "⏬ Downloading https://github.com/jaimergp/miniforge/releases/latest/download/Mambaforge-colab-Linux-x86_64.sh...\n",
            "📦 Installing...\n",
            "📌 Adjusting configuration...\n",
            "🩹 Patching environment...\n",
            "⏲ Done in 0:00:24\n",
            "🔁 Restarting kernel...\n"
          ]
        }
      ]
    },
    {
      "cell_type": "code",
      "source": [
        "\n",
        "!conda --version"
      ],
      "metadata": {
        "colab": {
          "base_uri": "https://localhost:8080/"
        },
        "id": "kDK9Zc1y862h",
        "outputId": "1f39cf23-377c-4d9c-8593-0cb9d8ab889a"
      },
      "execution_count": 1,
      "outputs": [
        {
          "output_type": "stream",
          "name": "stdout",
          "text": [
            "conda 22.9.0\n"
          ]
        }
      ]
    },
    {
      "cell_type": "code",
      "source": [
        "%%capture\n",
        "!conda install -c conda-forge dftbplus ase cvxopt tqdm "
      ],
      "metadata": {
        "id": "c7hR0kaA88Q-"
      },
      "execution_count": 2,
      "outputs": []
    },
    {
      "cell_type": "code",
      "source": [],
      "metadata": {
        "colab": {
          "base_uri": "https://localhost:8080/"
        },
        "id": "pCfdc1ri-Bde",
        "outputId": "3835ff70-38fb-40e1-d7be-906e478550c5"
      },
      "execution_count": 3,
      "outputs": [
        {
          "output_type": "stream",
          "name": "stdout",
          "text": [
            "Python 3.8.15\n"
          ]
        }
      ]
    },
    {
      "cell_type": "code",
      "execution_count": 3,
      "metadata": {
        "id": "B0VNWng7w1I5"
      },
      "outputs": [],
      "source": [
        "%%capture\n",
        "# !pip install ccs_fit\n",
        "!pip install git+https://github.com/Teoroo-CMC/CCS.git@remove_key_check\n",
        "#!pip install git+https://github.com/yqshao/ase-notebook.git\n",
        "#!pip install pythreejs\n"
      ]
    },
    {
      "cell_type": "code",
      "source": [
        "from google.colab import files\n",
        "uploads= files.upload()"
      ],
      "metadata": {
        "colab": {
          "base_uri": "https://localhost:8080/",
          "height": 73
        },
        "id": "cmXZW1W2ylM-",
        "outputId": "44ad7c31-375a-4be7-8ef4-3a5f873cbdf9"
      },
      "execution_count": 84,
      "outputs": [
        {
          "output_type": "display_data",
          "data": {
            "text/plain": [
              "<IPython.core.display.HTML object>"
            ],
            "text/html": [
              "\n",
              "     <input type=\"file\" id=\"files-f84ee4f9-3f17-4064-8300-780cef55864f\" name=\"files[]\" multiple disabled\n",
              "        style=\"border:none\" />\n",
              "     <output id=\"result-f84ee4f9-3f17-4064-8300-780cef55864f\">\n",
              "      Upload widget is only available when the cell has been executed in the\n",
              "      current browser session. Please rerun this cell to enable.\n",
              "      </output>\n",
              "      <script>// Copyright 2017 Google LLC\n",
              "//\n",
              "// Licensed under the Apache License, Version 2.0 (the \"License\");\n",
              "// you may not use this file except in compliance with the License.\n",
              "// You may obtain a copy of the License at\n",
              "//\n",
              "//      http://www.apache.org/licenses/LICENSE-2.0\n",
              "//\n",
              "// Unless required by applicable law or agreed to in writing, software\n",
              "// distributed under the License is distributed on an \"AS IS\" BASIS,\n",
              "// WITHOUT WARRANTIES OR CONDITIONS OF ANY KIND, either express or implied.\n",
              "// See the License for the specific language governing permissions and\n",
              "// limitations under the License.\n",
              "\n",
              "/**\n",
              " * @fileoverview Helpers for google.colab Python module.\n",
              " */\n",
              "(function(scope) {\n",
              "function span(text, styleAttributes = {}) {\n",
              "  const element = document.createElement('span');\n",
              "  element.textContent = text;\n",
              "  for (const key of Object.keys(styleAttributes)) {\n",
              "    element.style[key] = styleAttributes[key];\n",
              "  }\n",
              "  return element;\n",
              "}\n",
              "\n",
              "// Max number of bytes which will be uploaded at a time.\n",
              "const MAX_PAYLOAD_SIZE = 100 * 1024;\n",
              "\n",
              "function _uploadFiles(inputId, outputId) {\n",
              "  const steps = uploadFilesStep(inputId, outputId);\n",
              "  const outputElement = document.getElementById(outputId);\n",
              "  // Cache steps on the outputElement to make it available for the next call\n",
              "  // to uploadFilesContinue from Python.\n",
              "  outputElement.steps = steps;\n",
              "\n",
              "  return _uploadFilesContinue(outputId);\n",
              "}\n",
              "\n",
              "// This is roughly an async generator (not supported in the browser yet),\n",
              "// where there are multiple asynchronous steps and the Python side is going\n",
              "// to poll for completion of each step.\n",
              "// This uses a Promise to block the python side on completion of each step,\n",
              "// then passes the result of the previous step as the input to the next step.\n",
              "function _uploadFilesContinue(outputId) {\n",
              "  const outputElement = document.getElementById(outputId);\n",
              "  const steps = outputElement.steps;\n",
              "\n",
              "  const next = steps.next(outputElement.lastPromiseValue);\n",
              "  return Promise.resolve(next.value.promise).then((value) => {\n",
              "    // Cache the last promise value to make it available to the next\n",
              "    // step of the generator.\n",
              "    outputElement.lastPromiseValue = value;\n",
              "    return next.value.response;\n",
              "  });\n",
              "}\n",
              "\n",
              "/**\n",
              " * Generator function which is called between each async step of the upload\n",
              " * process.\n",
              " * @param {string} inputId Element ID of the input file picker element.\n",
              " * @param {string} outputId Element ID of the output display.\n",
              " * @return {!Iterable<!Object>} Iterable of next steps.\n",
              " */\n",
              "function* uploadFilesStep(inputId, outputId) {\n",
              "  const inputElement = document.getElementById(inputId);\n",
              "  inputElement.disabled = false;\n",
              "\n",
              "  const outputElement = document.getElementById(outputId);\n",
              "  outputElement.innerHTML = '';\n",
              "\n",
              "  const pickedPromise = new Promise((resolve) => {\n",
              "    inputElement.addEventListener('change', (e) => {\n",
              "      resolve(e.target.files);\n",
              "    });\n",
              "  });\n",
              "\n",
              "  const cancel = document.createElement('button');\n",
              "  inputElement.parentElement.appendChild(cancel);\n",
              "  cancel.textContent = 'Cancel upload';\n",
              "  const cancelPromise = new Promise((resolve) => {\n",
              "    cancel.onclick = () => {\n",
              "      resolve(null);\n",
              "    };\n",
              "  });\n",
              "\n",
              "  // Wait for the user to pick the files.\n",
              "  const files = yield {\n",
              "    promise: Promise.race([pickedPromise, cancelPromise]),\n",
              "    response: {\n",
              "      action: 'starting',\n",
              "    }\n",
              "  };\n",
              "\n",
              "  cancel.remove();\n",
              "\n",
              "  // Disable the input element since further picks are not allowed.\n",
              "  inputElement.disabled = true;\n",
              "\n",
              "  if (!files) {\n",
              "    return {\n",
              "      response: {\n",
              "        action: 'complete',\n",
              "      }\n",
              "    };\n",
              "  }\n",
              "\n",
              "  for (const file of files) {\n",
              "    const li = document.createElement('li');\n",
              "    li.append(span(file.name, {fontWeight: 'bold'}));\n",
              "    li.append(span(\n",
              "        `(${file.type || 'n/a'}) - ${file.size} bytes, ` +\n",
              "        `last modified: ${\n",
              "            file.lastModifiedDate ? file.lastModifiedDate.toLocaleDateString() :\n",
              "                                    'n/a'} - `));\n",
              "    const percent = span('0% done');\n",
              "    li.appendChild(percent);\n",
              "\n",
              "    outputElement.appendChild(li);\n",
              "\n",
              "    const fileDataPromise = new Promise((resolve) => {\n",
              "      const reader = new FileReader();\n",
              "      reader.onload = (e) => {\n",
              "        resolve(e.target.result);\n",
              "      };\n",
              "      reader.readAsArrayBuffer(file);\n",
              "    });\n",
              "    // Wait for the data to be ready.\n",
              "    let fileData = yield {\n",
              "      promise: fileDataPromise,\n",
              "      response: {\n",
              "        action: 'continue',\n",
              "      }\n",
              "    };\n",
              "\n",
              "    // Use a chunked sending to avoid message size limits. See b/62115660.\n",
              "    let position = 0;\n",
              "    do {\n",
              "      const length = Math.min(fileData.byteLength - position, MAX_PAYLOAD_SIZE);\n",
              "      const chunk = new Uint8Array(fileData, position, length);\n",
              "      position += length;\n",
              "\n",
              "      const base64 = btoa(String.fromCharCode.apply(null, chunk));\n",
              "      yield {\n",
              "        response: {\n",
              "          action: 'append',\n",
              "          file: file.name,\n",
              "          data: base64,\n",
              "        },\n",
              "      };\n",
              "\n",
              "      let percentDone = fileData.byteLength === 0 ?\n",
              "          100 :\n",
              "          Math.round((position / fileData.byteLength) * 100);\n",
              "      percent.textContent = `${percentDone}% done`;\n",
              "\n",
              "    } while (position < fileData.byteLength);\n",
              "  }\n",
              "\n",
              "  // All done.\n",
              "  yield {\n",
              "    response: {\n",
              "      action: 'complete',\n",
              "    }\n",
              "  };\n",
              "}\n",
              "\n",
              "scope.google = scope.google || {};\n",
              "scope.google.colab = scope.google.colab || {};\n",
              "scope.google.colab._files = {\n",
              "  _uploadFiles,\n",
              "  _uploadFilesContinue,\n",
              "};\n",
              "})(self);\n",
              "</script> "
            ]
          },
          "metadata": {}
        },
        {
          "output_type": "stream",
          "name": "stdout",
          "text": [
            "Saving DFT_DB_1.db to DFT_DB_1.db\n"
          ]
        }
      ]
    },
    {
      "cell_type": "code",
      "source": [],
      "metadata": {
        "id": "sidgNrXfj9y_"
      },
      "execution_count": 89,
      "outputs": []
    },
    {
      "cell_type": "code",
      "source": [
        "os.chdir(base)"
      ],
      "metadata": {
        "id": "eGWZZSMckN1O"
      },
      "execution_count": 91,
      "outputs": []
    },
    {
      "cell_type": "code",
      "source": [
        "!ase db DFT_DB_1.db"
      ],
      "metadata": {
        "colab": {
          "base_uri": "https://localhost:8080/"
        },
        "id": "gewo4Cr94peY",
        "outputId": "92edad48-fbf5-4d02-97a1-da49c6add475"
      },
      "execution_count": 92,
      "outputs": [
        {
          "output_type": "stream",
          "name": "stdout",
          "text": [
            "id| age|formula |calculator| energy|natoms|  fmax|pbc|  volume|charge|  mass| smax|magmom\n",
            " 1|284s|LiC3H4O3|vasp      |-62.377|    11| 4.296|TTT|1100.000| 0.000|95.002|0.002| 1.000\n",
            " 2|284s|LiC3H4O3|vasp      |-55.129|    11|30.707|TTT|8400.000| 0.000|95.002|0.004| 0.999\n",
            " 3|284s|LiC3H4O3|vasp      |-62.316|    11| 3.218|TTT|1100.000| 0.000|95.002|0.003| 1.000\n",
            " 4|284s|LiC3H4O3|vasp      |-61.986|    11| 4.438|TTT|8400.000| 0.000|95.002|0.002| 0.996\n",
            " 5|284s|LiC3H4O3|vasp      |-62.285|    11| 2.450|TTT|8400.000| 0.000|95.002|0.000| 1.000\n",
            " 6|284s|LiC3H4O3|vasp      |-63.566|    11| 0.941|TTT|8400.000| 0.000|95.002|0.000| 1.000\n",
            " 7|284s|LiC3H4O3|vasp      |-62.611|    11| 0.111|TTT|8400.000| 0.000|95.002|0.000| 0.991\n",
            " 8|284s|LiC3H4O3|vasp      |-63.555|    11| 1.294|TTT|8400.000| 0.000|95.002|0.000| 1.000\n",
            " 9|284s|LiC3H4O3|vasp      |-62.510|    11| 1.570|TTT|8400.000| 0.000|95.002|0.000| 0.995\n",
            "10|284s|LiC3H4O3|vasp      |-62.386|    11| 2.560|TTT|8400.000| 0.000|95.002|0.000| 1.000\n",
            "11|284s|LiC3H4O3|vasp      |-61.974|    11| 4.613|TTT|1100.000| 0.000|95.002|0.006| 0.998\n",
            "12|284s|LiC3H4O3|vasp      |-61.624|    11|10.666|TTT|8400.000| 0.000|95.002|0.002| 0.961\n",
            "13|284s|LiC3H4O3|vasp      |-61.881|    11| 3.278|TTT|8400.000| 0.000|95.002|0.001| 1.000\n",
            "14|284s|LiC3H4O3|vasp      |-63.236|    11|41.734|TTT|8400.000| 0.000|95.002|0.000| 1.000\n",
            "15|284s|LiC3H4O3|vasp      |-62.311|    11| 5.558|TTT|1100.000| 0.000|95.002|0.001| 1.000\n",
            "16|284s|LiC3H4O3|vasp      |-62.390|    11| 2.659|TTT|8400.000| 0.000|95.002|0.000| 1.000\n",
            "17|284s|LiC3H4O3|vasp      |-62.059|    11| 3.418|TTT|8400.000| 0.000|95.002|0.001| 1.000\n",
            "18|284s|LiC3H4O3|vasp      |-57.369|    11| 6.032|TTT|8400.000| 0.000|95.002|0.001| 1.008\n",
            "19|284s|LiC3H4O3|vasp      |-62.398|    11| 4.310|TTT|1100.000| 0.000|95.002|0.004| 1.000\n",
            "20|284s|LiC3H4O3|vasp      |-61.759|    11| 8.267|TTT|8400.000| 0.000|95.002|0.001| 1.000\n",
            "Rows: 400 (showing first 20)\n"
          ]
        }
      ]
    },
    {
      "cell_type": "markdown",
      "source": [
        "# xTB calcualtions on the DB structures. "
      ],
      "metadata": {
        "id": "KjdN94_Q-sZs"
      }
    },
    {
      "cell_type": "code",
      "source": [
        "import os \n",
        "import sys\n",
        "from ase import Atoms\n",
        "from ase.db import connect \n",
        "from ase import io\n",
        "import ase.db \n",
        "\n",
        "from ase.optimize import FIRE, QuasiNewton\n",
        "from ase.io import read, write\n",
        "import ase.db  \n",
        "from ase.units import *\n",
        "import numpy as np\n",
        "\n",
        "from ccs_fit.ase_calculator.ccs_ase_calculator import CCS"
      ],
      "metadata": {
        "id": "EM0rPMQvw4Tv"
      },
      "execution_count": 68,
      "outputs": []
    },
    {
      "cell_type": "code",
      "source": [
        "#@title def loading\n",
        "\"\"\" This module defines a FileIOCalculator for DFTB+ with XTB \n",
        "\n",
        "http://www.dftbplus.org/\n",
        "http://www.dftb.org/\n",
        "\n",
        "Initial development: markus.kaukonen@iki.fi, Modified to be used with xTB. \n",
        "\"\"\"\n",
        "\n",
        "import os\n",
        "import numpy as np\n",
        "from ase.calculators.calculator import (FileIOCalculator, kpts2ndarray,\n",
        "                                        kpts2sizeandoffsets)\n",
        "from ase.units import Hartree, Bohr\n",
        "\n",
        "\n",
        "class Dftb_xtb(FileIOCalculator):\n",
        "\n",
        "    command = 'dftb+ > PREFIX.out'\n",
        "\n",
        "    implemented_properties = ['energy', 'forces', 'charges',\n",
        "                              'stress', 'dipole']\n",
        "    discard_results_on_any_change = True\n",
        "\n",
        "    def __init__(self, restart=None,\n",
        "                 ignore_bad_restart_file=FileIOCalculator._deprecated,\n",
        "                 label='dftb', atoms=None, kpts=None,\n",
        "                 slako_dir=None,\n",
        "                 **kwargs):\n",
        "        \"\"\"\n",
        "        All keywords for the dftb_in.hsd input file (see the DFTB+ manual)\n",
        "        can be set by ASE. Consider the following input file block:\n",
        "\n",
        "        >>> Hamiltonian = DFTB {\n",
        "        >>>     SCC = Yes\n",
        "        >>>     SCCTolerance = 1e-8\n",
        "        >>>     MaxAngularMomentum = {\n",
        "        >>>         H = s\n",
        "        >>>         O = p\n",
        "        >>>     }\n",
        "        >>> }\n",
        "\n",
        "        This can be generated by the DFTB+ calculator by using the\n",
        "        following settings:\n",
        "\n",
        "        >>> calc = Dftb(Hamiltonian_='DFTB',  # line is included by default\n",
        "        >>>             Hamiltonian_SCC='Yes',\n",
        "        >>>             Hamiltonian_SCCTolerance=1e-8,\n",
        "        >>>             Hamiltonian_MaxAngularMomentum_='',\n",
        "        >>>             Hamiltonian_MaxAngularMomentum_H='s',\n",
        "        >>>             Hamiltonian_MaxAngularMomentum_O='p')\n",
        "\n",
        "        In addition to keywords specific to DFTB+, also the following keywords\n",
        "        arguments can be used:\n",
        "\n",
        "        restart: str\n",
        "            Prefix for restart file.  May contain a directory.\n",
        "            Default is None: don't restart.\n",
        "        ignore_bad_restart_file: bool\n",
        "            Ignore broken or missing restart file. By default, it is an\n",
        "            error if the restart file is missing or broken.\n",
        "        label: str (default 'dftb')\n",
        "            Prefix used for the main output file (.out).\n",
        "        atoms: Atoms object (default None)\n",
        "            Optional Atoms object to which the calculator will be\n",
        "            attached. When restarting, atoms will get its positions and\n",
        "            unit-cell updated from file.\n",
        "        kpts: (default None)\n",
        "            Brillouin zone sampling:\n",
        "\n",
        "            * ``(1,1,1)`` or ``None``: Gamma-point only\n",
        "            * ``(n1,n2,n3)``: Monkhorst-Pack grid\n",
        "            * ``dict``: Interpreted as a path in the Brillouin zone if\n",
        "              it contains the 'path_' keyword. Otherwise it is converted\n",
        "              into a Monkhorst-Pack grid using\n",
        "              ``ase.calculators.calculator.kpts2sizeandoffsets``\n",
        "            * ``[(k11,k12,k13),(k21,k22,k23),...]``: Explicit (Nkpts x 3)\n",
        "              array of k-points in units of the reciprocal lattice vectors\n",
        "              (each with equal weight)\n",
        "\n",
        "        Additional attribute to be set by the embed() method:\n",
        "\n",
        "        pcpot: PointCharge object\n",
        "            An external point charge potential (for QM/MM calculations)\n",
        "        \"\"\"\n",
        "\n",
        "        #if slako_dir is None:\n",
        "            #slako_dir = os.environ.get('DFTB_PREFIX', './')\n",
        "            #if not slako_dir.endswith('/'):\n",
        "            #    slako_dir += '/'\n",
        "\n",
        "        #self.slako_dir = slako_dir\n",
        "\n",
        "        self.default_parameters = dict(\n",
        "            Hamiltonian_='DFTB',\n",
        "         #   Hamiltonian_SlaterKosterFiles_='Type2FileNames',\n",
        "         #   Hamiltonian_SlaterKosterFiles_Prefix=self.slako_dir,\n",
        "         #  Hamiltonian_SlaterKosterFiles_Separator='\"-\"',\n",
        "         #   Hamiltonian_SlaterKosterFiles_Suffix='\".skf\"',\n",
        "         #   Hamiltonian_MaxAngularMomentum_='',\n",
        "            Paralell_='',\n",
        "            Paralell_UseOmpThreads = 'Yes', \n",
        "            Analysis_='',  \n",
        "            Analysis_CalculateForces = 'Yes',   \n",
        "            Options_='',\n",
        "            Options_WriteResultsTag='Yes')\n",
        "   \n",
        "\n",
        "        self.pcpot = None\n",
        "        self.lines = None\n",
        "        self.atoms = None\n",
        "        self.atoms_input = None\n",
        "        self.do_forces = True \n",
        "        self.outfilename = 'dftb.out'\n",
        "\n",
        "        FileIOCalculator.__init__(self, restart, ignore_bad_restart_file,\n",
        "                                  label, atoms,\n",
        "                                  **kwargs)\n",
        "\n",
        "        # Determine number of spin channels\n",
        "        try:\n",
        "            entry = kwargs['Hamiltonian_SpinPolarisation']\n",
        "            spinpol = 'colinear' in entry.lower()\n",
        "        except KeyError:\n",
        "            spinpol = False\n",
        "        self.nspin = 2 if spinpol else 1\n",
        "\n",
        "        # kpoint stuff by ase\n",
        "        self.kpts = kpts\n",
        "        self.kpts_coord = None\n",
        "\n",
        "        if self.kpts is not None:\n",
        "            initkey = 'Hamiltonian_KPointsAndWeights'\n",
        "            mp_mesh = None\n",
        "            offsets = None\n",
        "\n",
        "            if isinstance(self.kpts, dict):\n",
        "                if 'path' in self.kpts:\n",
        "                    # kpts is path in Brillouin zone\n",
        "                    self.parameters[initkey + '_'] = 'Klines '\n",
        "                    self.kpts_coord = kpts2ndarray(self.kpts, atoms=atoms)\n",
        "                else:\n",
        "                    # kpts is (implicit) definition of\n",
        "                    # Monkhorst-Pack grid\n",
        "                    self.parameters[initkey + '_'] = 'SupercellFolding '\n",
        "                    mp_mesh, offsets = kpts2sizeandoffsets(atoms=atoms,\n",
        "                                                           **self.kpts)\n",
        "            elif np.array(self.kpts).ndim == 1:\n",
        "                # kpts is Monkhorst-Pack grid\n",
        "                self.parameters[initkey + '_'] = 'SupercellFolding '\n",
        "                mp_mesh = self.kpts\n",
        "                offsets = [0.] * 3\n",
        "            elif np.array(self.kpts).ndim == 2:\n",
        "                # kpts is (N x 3) list/array of k-point coordinates\n",
        "                # each will be given equal weight\n",
        "                self.parameters[initkey + '_'] = ''\n",
        "                self.kpts_coord = np.array(self.kpts)\n",
        "            else:\n",
        "                raise ValueError('Illegal kpts definition:' + str(self.kpts))\n",
        "\n",
        "            if mp_mesh is not None:\n",
        "                eps = 1e-10\n",
        "                for i in range(3):\n",
        "                    key = initkey + '_empty%03d' % i\n",
        "                    val = [mp_mesh[i] if j == i else 0 for j in range(3)]\n",
        "                    self.parameters[key] = ' '.join(map(str, val))\n",
        "                    offsets[i] *= mp_mesh[i]\n",
        "                    assert abs(offsets[i]) < eps or abs(offsets[i] - 0.5) < eps\n",
        "                    # DFTB+ uses a different offset convention, where\n",
        "                    # the k-point mesh is already Gamma-centered prior\n",
        "                    # to the addition of any offsets\n",
        "                    if mp_mesh[i] % 2 == 0:\n",
        "                        offsets[i] += 0.5\n",
        "                key = initkey + '_empty%03d' % 3\n",
        "                self.parameters[key] = ' '.join(map(str, offsets))\n",
        "\n",
        "            elif self.kpts_coord is not None:\n",
        "                for i, c in enumerate(self.kpts_coord):\n",
        "                    key = initkey + '_empty%09d' % i\n",
        "                    c_str = ' '.join(map(str, c))\n",
        "                    if 'Klines' in self.parameters[initkey + '_']:\n",
        "                        c_str = '1 ' + c_str\n",
        "                    else:\n",
        "                        c_str += ' 1.0'\n",
        "                    self.parameters[key] = c_str\n",
        "\n",
        "    def write_dftb_in(self, outfile):\n",
        "        \"\"\" Write the innput file for the dftb+ calculation.\n",
        "            Geometry is taken always from the file 'geo_end.gen'.\n",
        "        \"\"\"\n",
        "\n",
        "        outfile.write('Geometry = GenFormat { \\n')\n",
        "        outfile.write('    <<< \"geo_end.gen\" \\n')\n",
        "        outfile.write('} \\n')\n",
        "        outfile.write(' \\n')\n",
        "\n",
        "        params = self.parameters.copy()\n",
        "\n",
        "        #s = 'Hamiltonian_MaxAngularMomentum_'\n",
        "        #for key in params:\n",
        "        #    if key.startswith(s) and len(key) > len(s):\n",
        "        #        break\n",
        "        #else:\n",
        "            # User didn't specify max angular mometa.  Get them from\n",
        "            # the .skf files:\n",
        "        #    symbols = set(self.atoms.get_chemical_symbols())\n",
        "        #    for symbol in symbols:\n",
        "        #        path = os.path.join(self.slako_dir,\n",
        "        #                            '{0}-{0}.skf'.format(symbol))\n",
        "        #        l = read_max_angular_momentum(path)\n",
        "        #        params[s + symbol] = '\"{}\"'.format('spdf'[l])\n",
        "\n",
        "        # --------MAIN KEYWORDS-------\n",
        "        previous_key = 'dummy_'\n",
        "        myspace = ' '\n",
        "        for key, value in sorted(params.items()):\n",
        "            current_depth = key.rstrip('_').count('_')\n",
        "            previous_depth = previous_key.rstrip('_').count('_')\n",
        "            for my_backsclash in reversed(\n",
        "                    range(previous_depth - current_depth)):\n",
        "                outfile.write(3 * (1 + my_backsclash) * myspace + '} \\n')\n",
        "            outfile.write(3 * current_depth * myspace)\n",
        "            if key.endswith('_') and len(value) > 0:\n",
        "                outfile.write(key.rstrip('_').rsplit('_')[-1] +\n",
        "                              ' = ' + str(value) + '{ \\n')\n",
        "            elif (key.endswith('_') and (len(value) == 0)\n",
        "                  and current_depth == 0):  # E.g. 'Options {'\n",
        "                outfile.write(key.rstrip('_').rsplit('_')[-1] +\n",
        "                              ' ' + str(value) + '{ \\n')\n",
        "            elif (key.endswith('_') and (len(value) == 0)\n",
        "                  and current_depth > 0):  # E.g. 'Hamiltonian_Max... = {'\n",
        "                outfile.write(key.rstrip('_').rsplit('_')[-1] +\n",
        "                              ' = ' + str(value) + '{ \\n')\n",
        "            elif key.count('_empty') == 1:\n",
        "                outfile.write(str(value) + ' \\n')\n",
        "            elif ((key == 'Hamiltonian_ReadInitialCharges') and\n",
        "                  (str(value).upper() == 'YES')):\n",
        "                f1 = os.path.isfile(self.directory + os.sep + 'charges.dat')\n",
        "                f2 = os.path.isfile(self.directory + os.sep + 'charges.bin')\n",
        "                if not (f1 or f2):\n",
        "                    print('charges.dat or .bin not found, switching off guess')\n",
        "                    value = 'No'\n",
        "                outfile.write(key.rsplit('_')[-1] + ' = ' + str(value) + ' \\n')\n",
        "            else:\n",
        "                outfile.write(key.rsplit('_')[-1] + ' = ' + str(value) + ' \\n')\n",
        "            if self.pcpot is not None and ('DFTB' in str(value)):\n",
        "                outfile.write('   ElectricField = { \\n')\n",
        "                outfile.write('      PointCharges = { \\n')\n",
        "                outfile.write(\n",
        "                    '         CoordsAndCharges [Angstrom] = DirectRead { \\n')\n",
        "                outfile.write('            Records = ' +\n",
        "                              str(len(self.pcpot.mmcharges)) + ' \\n')\n",
        "                outfile.write(\n",
        "                    '            File = \"dftb_external_charges.dat\" \\n')\n",
        "                outfile.write('         } \\n')\n",
        "                outfile.write('      } \\n')\n",
        "                outfile.write('   } \\n')\n",
        "            previous_key = key\n",
        "        current_depth = key.rstrip('_').count('_')\n",
        "        for my_backsclash in reversed(range(current_depth)):\n",
        "            outfile.write(3 * my_backsclash * myspace + '} \\n')\n",
        "        outfile.write('ParserOptions { \\n')\n",
        "        outfile.write('   IgnoreUnprocessedNodes = Yes  \\n')\n",
        "        outfile.write('} \\n')\n",
        "        if self.do_forces:\n",
        "            outfile.write('Analysis { \\n')\n",
        "            outfile.write('   CalculateForces = Yes  \\n')\n",
        "            outfile.write('} \\n')\n",
        "\n",
        "    def check_state(self, atoms):\n",
        "        system_changes = FileIOCalculator.check_state(self, atoms)\n",
        "        # Ignore unit cell for molecules:\n",
        "        if not atoms.pbc.any() and 'cell' in system_changes:\n",
        "            system_changes.remove('cell')\n",
        "        if self.pcpot and self.pcpot.mmpositions is not None:\n",
        "            system_changes.append('positions')\n",
        "        return system_changes\n",
        "\n",
        "    def write_input(self, atoms, properties=None, system_changes=None):\n",
        "        from ase.io import write\n",
        "        if properties is not None:\n",
        "            if 'forces' in properties or 'stress' in properties:\n",
        "                self.do_forces = True\n",
        "        FileIOCalculator.write_input(\n",
        "            self, atoms, properties, system_changes)\n",
        "        with open(os.path.join(self.directory, 'dftb_in.hsd'), 'w') as fd:\n",
        "            self.write_dftb_in(fd)\n",
        "        write(os.path.join(self.directory, 'geo_end.gen'), atoms,\n",
        "              parallel=False)\n",
        "        # self.atoms is none until results are read out,\n",
        "        # then it is set to the ones at writing input\n",
        "        self.atoms_input = atoms\n",
        "        self.atoms = None\n",
        "        if self.pcpot:\n",
        "            self.pcpot.write_mmcharges('dftb_external_charges.dat')\n",
        "\n",
        "    def read_results(self):\n",
        "        \"\"\" all results are read from results.tag file\n",
        "            It will be destroyed after it is read to avoid\n",
        "            reading it once again after some runtime error \"\"\"\n",
        "\n",
        "        with open(os.path.join(self.directory, 'results.tag'), 'r') as fd:\n",
        "            self.lines = fd.readlines()\n",
        "\n",
        "        self.atoms = self.atoms_input\n",
        "        charges, energy, dipole = self.read_charges_energy_dipole()\n",
        "        if charges is not None:\n",
        "            self.results['charges'] = charges\n",
        "        self.results['energy'] = energy\n",
        "        if dipole is not None:\n",
        "            self.results['dipole'] = dipole\n",
        "        if self.do_forces:\n",
        "            forces = self.read_forces()\n",
        "            self.results['forces'] = forces\n",
        "        self.mmpositions = None\n",
        "\n",
        "        # stress stuff begins\n",
        "        sstring = 'stress'\n",
        "        have_stress = False\n",
        "        stress = list()\n",
        "        for iline, line in enumerate(self.lines):\n",
        "            if sstring in line:\n",
        "                have_stress = True\n",
        "                start = iline + 1\n",
        "                end = start + 3\n",
        "                for i in range(start, end):\n",
        "                    cell = [float(x) for x in self.lines[i].split()]\n",
        "                    stress.append(cell)\n",
        "        if have_stress:\n",
        "            stress = -np.array(stress) * Hartree / Bohr**3\n",
        "            self.results['stress'] = stress.flat[[0, 4, 8, 5, 2, 1]]\n",
        "        # stress stuff ends\n",
        "\n",
        "        # eigenvalues and fermi levels\n",
        "        fermi_levels = self.read_fermi_levels()\n",
        "        if fermi_levels is not None:\n",
        "            self.results['fermi_levels'] = fermi_levels\n",
        "\n",
        "        eigenvalues = self.read_eigenvalues()\n",
        "        if eigenvalues is not None:\n",
        "            self.results['eigenvalues'] = eigenvalues\n",
        "\n",
        "        # calculation was carried out with atoms written in write_input\n",
        "        os.remove(os.path.join(self.directory, 'results.tag'))\n",
        "\n",
        "    def read_forces(self):\n",
        "        \"\"\"Read Forces from dftb output file (results.tag).\"\"\"\n",
        "        from ase.units import Hartree, Bohr\n",
        "\n",
        "        # Initialise the indices so their scope\n",
        "        # reaches outside of the for loop\n",
        "        index_force_begin = -1\n",
        "        index_force_end = -1\n",
        "\n",
        "        # Force line indexes\n",
        "        for iline, line in enumerate(self.lines):\n",
        "            fstring = 'forces   '\n",
        "            if line.find(fstring) >= 0:\n",
        "                index_force_begin = iline + 1\n",
        "                line1 = line.replace(':', ',')\n",
        "                index_force_end = iline + 1 + \\\n",
        "                    int(line1.split(',')[-1])\n",
        "                break\n",
        "\n",
        "        gradients = []\n",
        "        for j in range(index_force_begin, index_force_end):\n",
        "            word = self.lines[j].split()\n",
        "            gradients.append([float(word[k]) for k in range(0, 3)])\n",
        "\n",
        "        return np.array(gradients) * Hartree / Bohr\n",
        "\n",
        "    def read_charges_energy_dipole(self):\n",
        "        \"\"\"Get partial charges on atoms\n",
        "            in case we cannot find charges they are set to None\n",
        "        \"\"\"\n",
        "        with open(os.path.join(self.directory, 'detailed.out'), 'r') as fd:\n",
        "            lines = fd.readlines()\n",
        "\n",
        "        for line in lines:\n",
        "            if line.strip().startswith('Total energy:'):\n",
        "                energy = float(line.split()[2]) * Hartree\n",
        "                break\n",
        "\n",
        "        qm_charges = []\n",
        "        for n, line in enumerate(lines):\n",
        "            if ('Atom' and 'Charge' in line):\n",
        "                chargestart = n + 1\n",
        "                break\n",
        "        else:\n",
        "            # print('Warning: did not find DFTB-charges')\n",
        "            # print('This is ok if flag SCC=No')\n",
        "            return None, energy, None\n",
        "\n",
        "        lines1 = lines[chargestart:(chargestart + len(self.atoms))]\n",
        "        for line in lines1:\n",
        "            qm_charges.append(float(line.split()[-1]))\n",
        "\n",
        "        dipole = None\n",
        "        for line in lines:\n",
        "            if 'Dipole moment:' in line and 'au' in line:\n",
        "                words = line.split()\n",
        "                dipole = np.array(\n",
        "                    [float(w) for w in words[-4:-1]]) * Bohr\n",
        "\n",
        "        return np.array(qm_charges), energy, dipole\n",
        "\n",
        "    def get_charges(self, atoms):\n",
        "        \"\"\" Get the calculated charges\n",
        "        this is inhereted to atoms object \"\"\"\n",
        "        if 'charges' in self.results:\n",
        "            return self.results['charges']\n",
        "        else:\n",
        "            return None\n",
        "\n",
        "    def read_eigenvalues(self):\n",
        "        \"\"\" Read Eigenvalues from dftb output file (results.tag).\n",
        "            Unfortunately, the order seems to be scrambled. \"\"\"\n",
        "        # Eigenvalue line indexes\n",
        "        index_eig_begin = None\n",
        "        for iline, line in enumerate(self.lines):\n",
        "            fstring = 'eigenvalues   '\n",
        "            if line.find(fstring) >= 0:\n",
        "                index_eig_begin = iline + 1\n",
        "                line1 = line.replace(':', ',')\n",
        "                ncol, nband, nkpt, nspin = map(int, line1.split(',')[-4:])\n",
        "                break\n",
        "        else:\n",
        "            return None\n",
        "\n",
        "        # Take into account that the last row may lack\n",
        "        # columns if nkpt * nspin * nband % ncol != 0\n",
        "        nrow = int(np.ceil(nkpt * nspin * nband * 1. / ncol))\n",
        "        index_eig_end = index_eig_begin + nrow\n",
        "        ncol_last = len(self.lines[index_eig_end - 1].split())\n",
        "        self.lines[index_eig_end - 1] += ' 0.0 ' * (ncol - ncol_last)\n",
        "\n",
        "        eig = np.loadtxt(self.lines[index_eig_begin:index_eig_end]).flatten()\n",
        "        eig *= Hartree\n",
        "        N = nkpt * nband\n",
        "        eigenvalues = [eig[i * N:(i + 1) * N].reshape((nkpt, nband))\n",
        "                       for i in range(nspin)]\n",
        "\n",
        "        return eigenvalues\n",
        "\n",
        "    def read_fermi_levels(self):\n",
        "        \"\"\" Read Fermi level(s) from dftb output file (results.tag). \"\"\"\n",
        "        # Fermi level line indexes\n",
        "        for iline, line in enumerate(self.lines):\n",
        "            fstring = 'fermi_level   '\n",
        "            if line.find(fstring) >= 0:\n",
        "                index_fermi = iline + 1\n",
        "                break\n",
        "        else:\n",
        "            return None\n",
        "\n",
        "        fermi_levels = []\n",
        "        words = self.lines[index_fermi].split()\n",
        "        assert len(words) in [1, 2], 'Expected either 1 or 2 Fermi levels'\n",
        "\n",
        "        for word in words:\n",
        "            e = float(word)\n",
        "            # In non-spin-polarized calculations with DFTB+ v17.1,\n",
        "            # two Fermi levels are given, with the second one being 0,\n",
        "            # but we don't want to add that one to the list\n",
        "            if abs(e) > 1e-8:\n",
        "                fermi_levels.append(e)\n",
        "\n",
        "        return np.array(fermi_levels) * Hartree\n",
        "\n",
        "    def get_ibz_k_points(self):\n",
        "        return self.kpts_coord.copy()\n",
        "\n",
        "    def get_number_of_spins(self):\n",
        "        return self.nspin\n",
        "\n",
        "    def get_eigenvalues(self, kpt=0, spin=0):\n",
        "        return self.results['eigenvalues'][spin][kpt].copy()\n",
        "\n",
        "    def get_fermi_levels(self):\n",
        "        return self.results['fermi_levels'].copy()\n",
        "\n",
        "    def get_fermi_level(self):\n",
        "        return max(self.get_fermi_levels())\n",
        "\n",
        "    def embed(self, mmcharges=None, directory='./'):\n",
        "        \"\"\"Embed atoms in point-charges (mmcharges)\n",
        "        \"\"\"\n",
        "        self.pcpot = PointChargePotential(mmcharges, self.directory)\n",
        "        return self.pcpot\n",
        "\n",
        "\n",
        "\n",
        "class PointChargePotential:\n",
        "    def __init__(self, mmcharges, directory='./'):\n",
        "        \"\"\"Point-charge potential for DFTB+.\n",
        "        \"\"\"\n",
        "        self.mmcharges = mmcharges\n",
        "        self.directory = directory\n",
        "        self.mmpositions = None\n",
        "        self.mmforces = None\n",
        "\n",
        "    def set_positions(self, mmpositions):\n",
        "        self.mmpositions = mmpositions\n",
        "\n",
        "    def set_charges(self, mmcharges):\n",
        "        self.mmcharges = mmcharges\n",
        "\n",
        "    def write_mmcharges(self, filename):\n",
        "        \"\"\" mok all\n",
        "        write external charges as monopoles for dftb+.\n",
        "\n",
        "        \"\"\"\n",
        "        if self.mmcharges is None:\n",
        "            print(\"DFTB: Warning: not writing exernal charges \")\n",
        "            return\n",
        "        with open(os.path.join(self.directory, filename), 'w') as charge_file:\n",
        "            for [pos, charge] in zip(self.mmpositions, self.mmcharges):\n",
        "                [x, y, z] = pos\n",
        "                charge_file.write('%12.6f %12.6f %12.6f %12.6f \\n'\n",
        "                                  % (x, y, z, charge))\n",
        "\n",
        "    def get_forces(self, calc, get_forces=True):\n",
        "        \"\"\" returns forces on point charges if the flag get_forces=True \"\"\"\n",
        "        if get_forces:\n",
        "            return self.read_forces_on_pointcharges()\n",
        "        else:\n",
        "            return np.zeros_like(self.mmpositions)\n",
        "\n",
        "    def read_forces_on_pointcharges(self):\n",
        "        \"\"\"Read Forces from dftb output file (results.tag).\"\"\"\n",
        "        from ase.units import Hartree, Bohr\n",
        "        with open(os.path.join(self.directory, 'detailed.out'), 'r') as fd:\n",
        "            lines = fd.readlines()\n",
        "\n",
        "        external_forces = []\n",
        "        for n, line in enumerate(lines):\n",
        "            if ('Forces on external charges' in line):\n",
        "                chargestart = n + 1\n",
        "                break\n",
        "        else:\n",
        "            raise RuntimeError(\n",
        "                'Problem in reading forces on MM external-charges')\n",
        "        lines1 = lines[chargestart:(chargestart + len(self.mmcharges))]\n",
        "        for line in lines1:\n",
        "            external_forces.append(\n",
        "                [float(i) for i in line.split()])\n",
        "        return np.array(external_forces) * Hartree / Bohr\n",
        "\n",
        "def read_max_angular_momentum(path):\n",
        "    \"\"\"Read maximum angular momentum from .skf file.\n",
        "\n",
        "    See dftb.org for A detailed description of the Slater-Koster file format.\n",
        "    \"\"\"\n",
        "    with open(path, 'r') as fd:\n",
        "        line = fd.readline()\n",
        "        if line[0] == '@':\n",
        "            # Extended format\n",
        "            fd.readline()\n",
        "            l = 3\n",
        "            pos = 9\n",
        "        else:\n",
        "            # Simple format:\n",
        "            l = 2\n",
        "            pos = 7\n",
        "\n",
        "        # Sometimes there ar commas, sometimes not:\n",
        "        line = fd.readline().replace(',', ' ')\n",
        "\n",
        "        occs = [float(f) for f in line.split()[pos:pos + l + 1]]\n",
        "        for f in occs:\n",
        "            if f > 0.0:\n",
        "                return l\n",
        "            l -= 1\n"
      ],
      "metadata": {
        "cellView": "form",
        "id": "CNIEBzqXx6i9"
      },
      "execution_count": 69,
      "outputs": []
    },
    {
      "cell_type": "code",
      "source": [
        "def setup_model_xtb(atoms, charge=0,init=True):\n",
        "    from ase.calculators.mixing import LinearCombinationCalculator\n",
        "\n",
        "    print('setting up calculator')\n",
        "    if init==True:\n",
        "        DFTB_calc=Dftb_xtb(label='singlepoint', Hamiltonian_='xTB', Hamiltonian_Method='GFN2-xTB', Hamiltonian_Mixer= 'Anderson{',Hamiltonian_Mixer_MixingParameter='0.03',Hamiltonian_MaxSCCIterations = '1500',Hamiltonian_Filling = 'MethfesselPaxton{',Hamiltonian_Filling_Temperature = '0.001583407672623195',Hamiltonian_KPointsAndWeights = 'SupercellFolding {1 0 0 0 1 0 0 0 1 0.0 0.0 0.0}')\n",
        "    if init==False:\n",
        "          DFTB_calc=Dftb_xtb(label='singlepoint', Hamiltonian_='xTB', Hamiltonian_Method='GFN2-xTB', Hamiltonian_ReadInitialCharges='Yes', Hamiltonian_MaxSCCIterations = '1500',Hamiltonian_AdaptFillingTemp = 'yes', Hamiltonian_KPointsAndWeights = 'SupercellFolding {1 0 0 0 1 0 0 0 1 0.0 0.0 0.0}')\n",
        "    if charge>0: \n",
        "        DFTB_calc.set(Hamiltonian_Charge =str(charge))\n",
        "\n",
        "#    CCS_calc=CCS(CCS_params=CCS_params) \n",
        "    calcs =[DFTB_calc] #, PiNN_calc]\n",
        "    weights=[1] #,1]\n",
        "    calc=LinearCombinationCalculator(calcs, weights) \n",
        "    return calc     \n",
        "\n",
        "\n",
        "def setup_model_xtb_ccs(atoms, CCS_params, charge=0,init=True):\n",
        "    from ase.calculators.mixing import LinearCombinationCalculator\n",
        "\n",
        "    print('setting up calculator')\n",
        "    if init==True:\n",
        "        DFTB_calc=Dftb_xtb(label='singlepoint', Hamiltonian_='xTB', Hamiltonian_Method='GFN2-xTB', Hamiltonian_Mixer= 'Anderson{',Hamiltonian_Mixer_MixingParameter='0.03',Hamiltonian_MaxSCCIterations = '1500',Hamiltonian_Filling = 'MethfesselPaxton{',Hamiltonian_Filling_Temperature = '0.001583407672623195',Hamiltonian_KPointsAndWeights = 'SupercellFolding {1 0 0 0 1 0 0 0 1 0.0 0.0 0.0}')\n",
        "    if init==False:\n",
        "          DFTB_calc=Dftb_xtb(label='singlepoint', Hamiltonian_='xTB', Hamiltonian_Method='GFN2-xTB', Hamiltonian_ReadInitialCharges='Yes', Hamiltonian_MaxSCCIterations = '1500',Hamiltonian_AdaptFillingTemp = 'yes', Hamiltonian_KPointsAndWeights = 'SupercellFolding {1 0 0 0 1 0 0 0 1 0.0 0.0 0.0}')\n",
        "    if charge>0: \n",
        "        DFTB_calc.set(Hamiltonian_Charge =str(charge))\n",
        "    \n",
        "    CCS_calc=CCS(CCS_params=CCS_params) \n",
        "    calcs =[DFTB_calc, CCS_calc]\n",
        "    weights=[1,1] #,1]\n",
        "    calc=LinearCombinationCalculator(calcs, weights) \n",
        "    return calc     \n",
        "def run_geom(slab,charge):\n",
        "    charge=charge\n",
        "    print(slab.calc)\n",
        "    relax = FIRE(slab, trajectory='opt.traj')\n",
        "    relax.run(fmax=0.05)\n",
        "\n",
        "def run_sp(slab,charge):\n",
        "    charge=charge\n",
        "    print(slab.calc)\n",
        "    relax = FIRE(slab, trajectory='opt.traj')\n",
        "    relax.run(steps=0)"
      ],
      "metadata": {
        "id": "c131HqSGyEh_"
      },
      "execution_count": 70,
      "outputs": []
    },
    {
      "cell_type": "code",
      "source": [
        "rm -rf xTB_run"
      ],
      "metadata": {
        "id": "GdK27RbGfk17"
      },
      "execution_count": 72,
      "outputs": []
    },
    {
      "cell_type": "code",
      "source": [
        "import os\n",
        "base = os.getcwd()\n",
        "try: \n",
        "   os.mkdir('xTB_run')\n",
        "except:\n",
        "  pass\n",
        "os.chdir('xTB_run')\n"
      ],
      "metadata": {
        "id": "bk7Iu37qA69r"
      },
      "execution_count": 93,
      "outputs": []
    },
    {
      "cell_type": "code",
      "source": [
        "rm DFTB_DB.db"
      ],
      "metadata": {
        "id": "wIeyNKi0CE2G"
      },
      "execution_count": 82,
      "outputs": []
    },
    {
      "cell_type": "code",
      "source": [
        "%%capture\n",
        "db=connect('../DFT_DB_1.db')\n",
        "db_new=connect('DFTB_DB.db')\n",
        "\n",
        "for row in db.select():\n",
        "  atoms=row.toatoms()\n",
        "  print(atoms)\n",
        "  atoms.calc=setup_model_xtb(atoms)\n",
        "  atoms.get_potential_energy()\n",
        "  atoms.get_forces()\n",
        "  db_new.write(atoms)\n",
        "  print('Atom id:',row.id,' added')\n",
        "  "
      ],
      "metadata": {
        "id": "5hiKWS5cyLC0"
      },
      "execution_count": 94,
      "outputs": []
    },
    {
      "cell_type": "code",
      "source": [
        "!ase db DFTB_DB.db"
      ],
      "metadata": {
        "colab": {
          "base_uri": "https://localhost:8080/"
        },
        "id": "3P6cJ_4M6m9h",
        "outputId": "518b81e9-64e5-47ee-91a1-4e3d52150f1a"
      },
      "execution_count": 11,
      "outputs": [
        {
          "output_type": "stream",
          "name": "stdout",
          "text": [
            "id|age|formula|calculator                 |  energy|natoms|  fmax|pbc|  volume|charge|  mass\n",
            " 1|14s|C3H4O3 |linearcombinationcalculator|-559.446|    10| 6.548|TTT|8400.000| 0.000|88.062\n",
            " 2|14s|C3H4O3 |linearcombinationcalculator|-559.973|    10|10.484|TTT|8400.000| 0.000|88.062\n",
            " 3|12s|C3H4O3 |linearcombinationcalculator|-559.794|    10| 6.176|TTT|8400.000| 0.000|88.062\n",
            " 4|12s|C3H4O3 |linearcombinationcalculator|-558.947|    10| 7.329|TTT|8400.000| 0.000|88.062\n",
            " 5|12s|C3H4O3 |linearcombinationcalculator|-559.419|    10| 7.692|TTT|8400.000| 0.000|88.062\n",
            " 6|11s|C3H4O3 |linearcombinationcalculator|-559.452|    10| 7.618|TTT|8400.000| 0.000|88.062\n",
            " 7|11s|C3H4O3 |linearcombinationcalculator|-559.478|    10| 6.367|TTT|8400.000| 0.000|88.062\n",
            " 8|10s|C3H4O3 |linearcombinationcalculator|-560.336|    10| 3.257|TTT|8400.000| 0.000|88.062\n",
            " 9| 9s|C3H4O3 |linearcombinationcalculator|-559.410|    10| 7.275|TTT|8400.000| 0.000|88.062\n",
            "10| 9s|C3H4O3 |linearcombinationcalculator|-560.031|    10| 4.917|TTT|8400.000| 0.000|88.062\n",
            "11| 8s|C3H4O3 |linearcombinationcalculator|-559.750|    10| 5.960|TTT|8400.000| 0.000|88.062\n",
            "12| 8s|C3H4O3 |linearcombinationcalculator|-559.747|    10| 7.049|TTT|8400.000| 0.000|88.062\n",
            "13| 8s|C3H4O3 |linearcombinationcalculator|-560.020|    10| 6.581|TTT|8400.000| 0.000|88.062\n",
            "14| 7s|C3H4O3 |linearcombinationcalculator|-560.298|    10| 2.868|TTT|8400.000| 0.000|88.062\n",
            "15| 7s|C3H4O3 |linearcombinationcalculator|-559.874|    10| 7.935|TTT|8400.000| 0.000|88.062\n",
            "16| 6s|C3H4O3 |linearcombinationcalculator|-559.700|    10| 5.305|TTT|8400.000| 0.000|88.062\n",
            "17| 5s|C3H4O3 |linearcombinationcalculator|-559.565|    10| 6.653|TTT|8400.000| 0.000|88.062\n",
            "18| 4s|C3H4O3 |linearcombinationcalculator|-559.630|    10| 7.062|TTT|8400.000| 0.000|88.062\n",
            "19| 4s|C3H4O3 |linearcombinationcalculator|-559.803|    10| 5.228|TTT|8400.000| 0.000|88.062\n",
            "20| 3s|C3H4O3 |linearcombinationcalculator|-559.752|    10| 7.035|TTT|8400.000| 0.000|88.062\n",
            "Rows: 20 (showing first 20)\n"
          ]
        }
      ]
    },
    {
      "cell_type": "code",
      "source": [
        "os.chdir(base)"
      ],
      "metadata": {
        "id": "My0bMrvrFDJE"
      },
      "execution_count": 95,
      "outputs": []
    },
    {
      "cell_type": "code",
      "source": [
        "import pandas as pd\n",
        "import matplotlib.pyplot as plt\n",
        "os.chdir(base)\n",
        "Databases = ['DFT_DB_1.db', 'xTB_run/DFTB_DB.db']\n",
        "\n",
        "dd=pd.DataFrame()\n",
        "for database in Databases:\n",
        "  db=connect(database)\n",
        "  Energy=[]\n",
        "  for row in db.select(): \n",
        "      Energy.append(row.energy/len(row.toatoms()))\n",
        "  dd[database]=Energy\n",
        "\n",
        "\n",
        "ax=dd.plot.scatter(x=Databases[0],y=Databases[1])\n",
        "ax = plt.gca()\n",
        "ax.set_aspect(1)\n",
        "  "
      ],
      "metadata": {
        "colab": {
          "base_uri": "https://localhost:8080/",
          "height": 280
        },
        "id": "m8aub2n_DgJW",
        "outputId": "d36354d8-cc56-48b5-85ce-f84c82e13e1b"
      },
      "execution_count": 100,
      "outputs": [
        {
          "output_type": "display_data",
          "data": {
            "text/plain": [
              "<Figure size 432x288 with 1 Axes>"
            ],
            "image/png": "[encoded data removed]"
          },
          "metadata": {
            "needs_background": "light"
          }
        }
      ]
    },
    {
      "cell_type": "code",
      "source": [],
      "metadata": {
        "id": "cUS8-odEGhdm"
      },
      "execution_count": 100,
      "outputs": []
    },
    {
      "cell_type": "code",
      "source": [],
      "metadata": {
        "id": "auY1-wvKJw0f"
      },
      "execution_count": 100,
      "outputs": []
    },
    {
      "cell_type": "code",
      "source": [],
      "metadata": {
        "id": "vhEuh_dDRi-S"
      },
      "execution_count": 100,
      "outputs": []
    },
    {
      "cell_type": "code",
      "source": [
        "from ccs_fit.scripts.ccs_fetch import ccs_fetch as ccs_fetch\n",
        "from ccs_fit.fitting.main import twp_fit as ccs_fit\n",
        "import json"
      ],
      "metadata": {
        "id": "22gKELTOFXRr"
      },
      "execution_count": 101,
      "outputs": []
    },
    {
      "cell_type": "code",
      "source": [
        "ccs_fetch(mode='DFTB', R_c= 6.0, Ns='all', DFT_DB='DFT_DB_1.db', DFTB_DB='xTB_run/DFTB_DB.db', include_forces=True)"
      ],
      "metadata": {
        "colab": {
          "base_uri": "https://localhost:8080/"
        },
        "id": "kyItgY_gG3Eh",
        "outputId": "c5795d8d-0078-4f5c-ceff-a4ff975b74ef"
      },
      "execution_count": 102,
      "outputs": [
        {
          "output_type": "stream",
          "name": "stdout",
          "text": [
            "Starting CCS FETCH\n",
            "Starting tqdm\n"
          ]
        },
        {
          "output_type": "stream",
          "name": "stderr",
          "text": [
            "    Fetching data:   0%|\u001b[38;2;0;128;128m          \u001b[0m| 2/400 [00:00<00:22, 17.68it/s]"
          ]
        },
        {
          "output_type": "stream",
          "name": "stdout",
          "text": [
            "WRITE PETER\n",
            "WRITE PETER\n",
            "WRITE PETER\n",
            "WRITE PETER\n"
          ]
        },
        {
          "output_type": "stream",
          "name": "stderr",
          "text": [
            "    Fetching data:   2%|\u001b[38;2;0;128;128m▏         \u001b[0m| 6/400 [00:00<00:21, 17.94it/s]"
          ]
        },
        {
          "output_type": "stream",
          "name": "stdout",
          "text": [
            "WRITE PETER\n",
            "WRITE PETER\n",
            "WRITE PETER\n",
            "WRITE PETER\n"
          ]
        },
        {
          "output_type": "stream",
          "name": "stderr",
          "text": [
            "    Fetching data:   2%|\u001b[38;2;0;128;128m▎         \u001b[0m| 10/400 [00:00<00:24, 15.75it/s]"
          ]
        },
        {
          "output_type": "stream",
          "name": "stdout",
          "text": [
            "WRITE PETER\n",
            "WRITE PETER\n",
            "WRITE PETER\n",
            "WRITE PETER\n"
          ]
        },
        {
          "output_type": "stream",
          "name": "stderr",
          "text": [
            "    Fetching data:   4%|\u001b[38;2;0;128;128m▍         \u001b[0m| 16/400 [00:00<00:19, 19.51it/s]"
          ]
        },
        {
          "output_type": "stream",
          "name": "stdout",
          "text": [
            "WRITE PETER\n",
            "WRITE PETER\n",
            "WRITE PETER\n",
            "WRITE PETER\n",
            "WRITE PETER\n"
          ]
        },
        {
          "output_type": "stream",
          "name": "stderr",
          "text": [
            "\r    Fetching data:   5%|\u001b[38;2;0;128;128m▍         \u001b[0m| 19/400 [00:00<00:17, 21.34it/s]"
          ]
        },
        {
          "output_type": "stream",
          "name": "stdout",
          "text": [
            "WRITE PETER\n",
            "WRITE PETER\n",
            "WRITE PETER\n",
            "WRITE PETER\n",
            "WRITE PETER\n"
          ]
        },
        {
          "output_type": "stream",
          "name": "stderr",
          "text": [
            "    Fetching data:   6%|\u001b[38;2;0;128;128m▋         \u001b[0m| 25/400 [00:01<00:18, 20.50it/s]"
          ]
        },
        {
          "output_type": "stream",
          "name": "stdout",
          "text": [
            "WRITE PETER\n",
            "WRITE PETER\n",
            "WRITE PETER\n",
            "WRITE PETER\n",
            "WRITE PETER\n"
          ]
        },
        {
          "output_type": "stream",
          "name": "stderr",
          "text": [
            "\r    Fetching data:   7%|\u001b[38;2;0;128;128m▋         \u001b[0m| 28/400 [00:01<00:18, 20.52it/s]"
          ]
        },
        {
          "output_type": "stream",
          "name": "stdout",
          "text": [
            "WRITE PETER\n",
            "WRITE PETER\n",
            "WRITE PETER\n",
            "WRITE PETER\n"
          ]
        },
        {
          "output_type": "stream",
          "name": "stderr",
          "text": [
            "    Fetching data:   8%|\u001b[38;2;0;128;128m▊         \u001b[0m| 33/400 [00:01<00:19, 19.23it/s]"
          ]
        },
        {
          "output_type": "stream",
          "name": "stdout",
          "text": [
            "WRITE PETER\n",
            "WRITE PETER\n",
            "WRITE PETER\n",
            "WRITE PETER\n"
          ]
        },
        {
          "output_type": "stream",
          "name": "stderr",
          "text": [
            "    Fetching data:   9%|\u001b[38;2;0;128;128m▉         \u001b[0m| 37/400 [00:01<00:19, 18.64it/s]"
          ]
        },
        {
          "output_type": "stream",
          "name": "stdout",
          "text": [
            "WRITE PETER\n",
            "WRITE PETER\n",
            "WRITE PETER\n",
            "WRITE PETER\n",
            "WRITE PETER\n"
          ]
        },
        {
          "output_type": "stream",
          "name": "stderr",
          "text": [
            "    Fetching data:  11%|\u001b[38;2;0;128;128m█         \u001b[0m| 43/400 [00:02<00:16, 21.70it/s]"
          ]
        },
        {
          "output_type": "stream",
          "name": "stdout",
          "text": [
            "WRITE PETER\n",
            "WRITE PETER\n",
            "WRITE PETER\n",
            "WRITE PETER\n",
            "WRITE PETER\n"
          ]
        },
        {
          "output_type": "stream",
          "name": "stderr",
          "text": [
            "\r    Fetching data:  12%|\u001b[38;2;0;128;128m█▏        \u001b[0m| 46/400 [00:02<00:18, 19.19it/s]"
          ]
        },
        {
          "output_type": "stream",
          "name": "stdout",
          "text": [
            "WRITE PETER\n",
            "WRITE PETER\n",
            "WRITE PETER\n",
            "WRITE PETER\n"
          ]
        },
        {
          "output_type": "stream",
          "name": "stderr",
          "text": [
            "    Fetching data:  13%|\u001b[38;2;0;128;128m█▎        \u001b[0m| 52/400 [00:02<00:17, 19.95it/s]"
          ]
        },
        {
          "output_type": "stream",
          "name": "stdout",
          "text": [
            "WRITE PETER\n",
            "WRITE PETER\n",
            "WRITE PETER\n",
            "WRITE PETER\n"
          ]
        },
        {
          "output_type": "stream",
          "name": "stderr",
          "text": [
            "\r    Fetching data:  14%|\u001b[38;2;0;128;128m█▍        \u001b[0m| 55/400 [00:02<00:17, 19.83it/s]"
          ]
        },
        {
          "output_type": "stream",
          "name": "stdout",
          "text": [
            "WRITE PETER\n",
            "WRITE PETER\n",
            "WRITE PETER\n",
            "WRITE PETER\n",
            "WRITE PETER\n"
          ]
        },
        {
          "output_type": "stream",
          "name": "stderr",
          "text": [
            "    Fetching data:  15%|\u001b[38;2;0;128;128m█▌        \u001b[0m| 61/400 [00:03<00:16, 20.64it/s]"
          ]
        },
        {
          "output_type": "stream",
          "name": "stdout",
          "text": [
            "WRITE PETER\n",
            "WRITE PETER\n",
            "WRITE PETER\n",
            "WRITE PETER\n",
            "WRITE PETER\n"
          ]
        },
        {
          "output_type": "stream",
          "name": "stderr",
          "text": [
            "\r    Fetching data:  16%|\u001b[38;2;0;128;128m█▌        \u001b[0m| 64/400 [00:03<00:16, 20.09it/s]"
          ]
        },
        {
          "output_type": "stream",
          "name": "stdout",
          "text": [
            "WRITE PETER\n",
            "WRITE PETER\n",
            "WRITE PETER\n",
            "WRITE PETER\n"
          ]
        },
        {
          "output_type": "stream",
          "name": "stderr",
          "text": [
            "    Fetching data:  17%|\u001b[38;2;0;128;128m█▋        \u001b[0m| 69/400 [00:03<00:21, 15.35it/s]"
          ]
        },
        {
          "output_type": "stream",
          "name": "stdout",
          "text": [
            "WRITE PETER\n",
            "WRITE PETER\n",
            "WRITE PETER\n"
          ]
        },
        {
          "output_type": "stream",
          "name": "stderr",
          "text": [
            "\r    Fetching data:  18%|\u001b[38;2;0;128;128m█▊        \u001b[0m| 71/400 [00:03<00:22, 14.68it/s]"
          ]
        },
        {
          "output_type": "stream",
          "name": "stdout",
          "text": [
            "WRITE PETER\n",
            "WRITE PETER\n"
          ]
        },
        {
          "output_type": "stream",
          "name": "stderr",
          "text": [
            "\r    Fetching data:  18%|\u001b[38;2;0;128;128m█▊        \u001b[0m| 73/400 [00:04<00:25, 12.81it/s]"
          ]
        },
        {
          "output_type": "stream",
          "name": "stdout",
          "text": [
            "WRITE PETER\n",
            "WRITE PETER\n",
            "WRITE PETER\n"
          ]
        },
        {
          "output_type": "stream",
          "name": "stderr",
          "text": [
            "    Fetching data:  20%|\u001b[38;2;0;128;128m██        \u001b[0m| 80/400 [00:04<00:15, 20.66it/s]"
          ]
        },
        {
          "output_type": "stream",
          "name": "stdout",
          "text": [
            "WRITE PETER\n",
            "WRITE PETER\n",
            "WRITE PETER\n",
            "WRITE PETER\n",
            "WRITE PETER\n",
            "WRITE PETER\n",
            "WRITE PETER\n",
            "WRITE PETER\n",
            "WRITE PETER\n",
            "WRITE PETER\n",
            "WRITE PETER\n"
          ]
        },
        {
          "output_type": "stream",
          "name": "stderr",
          "text": [
            "    Fetching data:  23%|\u001b[38;2;0;128;128m██▎       \u001b[0m| 91/400 [00:04<00:09, 33.07it/s]"
          ]
        },
        {
          "output_type": "stream",
          "name": "stdout",
          "text": [
            "WRITE PETER\n",
            "WRITE PETER\n",
            "WRITE PETER\n",
            "WRITE PETER\n",
            "WRITE PETER\n",
            "WRITE PETER\n",
            "WRITE PETER\n",
            "WRITE PETER\n",
            "WRITE PETER\n"
          ]
        },
        {
          "output_type": "stream",
          "name": "stderr",
          "text": [
            "    Fetching data:  25%|\u001b[38;2;0;128;128m██▌       \u001b[0m| 100/400 [00:04<00:07, 37.59it/s]"
          ]
        },
        {
          "output_type": "stream",
          "name": "stdout",
          "text": [
            "WRITE PETER\n",
            "WRITE PETER\n",
            "WRITE PETER\n",
            "WRITE PETER\n",
            "WRITE PETER\n",
            "WRITE PETER\n",
            "WRITE PETER\n",
            "WRITE PETER\n",
            "WRITE PETER\n",
            "WRITE PETER\n",
            "WRITE PETER\n"
          ]
        },
        {
          "output_type": "stream",
          "name": "stderr",
          "text": [
            "    Fetching data:  28%|\u001b[38;2;0;128;128m██▊       \u001b[0m| 111/400 [00:04<00:06, 42.67it/s]"
          ]
        },
        {
          "output_type": "stream",
          "name": "stdout",
          "text": [
            "WRITE PETER\n",
            "WRITE PETER\n",
            "WRITE PETER\n",
            "WRITE PETER\n",
            "WRITE PETER\n",
            "WRITE PETER\n",
            "WRITE PETER\n",
            "WRITE PETER\n",
            "WRITE PETER\n"
          ]
        },
        {
          "output_type": "stream",
          "name": "stderr",
          "text": [
            "    Fetching data:  30%|\u001b[38;2;0;128;128m███       \u001b[0m| 122/400 [00:05<00:06, 44.36it/s]"
          ]
        },
        {
          "output_type": "stream",
          "name": "stdout",
          "text": [
            "WRITE PETER\n",
            "WRITE PETER\n",
            "WRITE PETER\n",
            "WRITE PETER\n",
            "WRITE PETER\n",
            "WRITE PETER\n",
            "WRITE PETER\n",
            "WRITE PETER\n",
            "WRITE PETER\n",
            "WRITE PETER\n",
            "WRITE PETER\n"
          ]
        },
        {
          "output_type": "stream",
          "name": "stderr",
          "text": [
            "    Fetching data:  33%|\u001b[38;2;0;128;128m███▎      \u001b[0m| 132/400 [00:05<00:06, 44.66it/s]"
          ]
        },
        {
          "output_type": "stream",
          "name": "stdout",
          "text": [
            "WRITE PETER\n",
            "WRITE PETER\n",
            "WRITE PETER\n",
            "WRITE PETER\n",
            "WRITE PETER\n",
            "WRITE PETER\n",
            "WRITE PETER\n",
            "WRITE PETER\n",
            "WRITE PETER\n",
            "WRITE PETER\n"
          ]
        },
        {
          "output_type": "stream",
          "name": "stderr",
          "text": [
            "    Fetching data:  36%|\u001b[38;2;0;128;128m███▌      \u001b[0m| 142/400 [00:05<00:05, 43.63it/s]"
          ]
        },
        {
          "output_type": "stream",
          "name": "stdout",
          "text": [
            "WRITE PETER\n",
            "WRITE PETER\n",
            "WRITE PETER\n",
            "WRITE PETER\n",
            "WRITE PETER\n",
            "WRITE PETER\n",
            "WRITE PETER\n",
            "WRITE PETER\n",
            "WRITE PETER\n"
          ]
        },
        {
          "output_type": "stream",
          "name": "stderr",
          "text": [
            "    Fetching data:  38%|\u001b[38;2;0;128;128m███▊      \u001b[0m| 152/400 [00:05<00:05, 42.82it/s]"
          ]
        },
        {
          "output_type": "stream",
          "name": "stdout",
          "text": [
            "WRITE PETER\n",
            "WRITE PETER\n",
            "WRITE PETER\n",
            "WRITE PETER\n",
            "WRITE PETER\n",
            "WRITE PETER\n",
            "WRITE PETER\n",
            "WRITE PETER\n",
            "WRITE PETER\n"
          ]
        },
        {
          "output_type": "stream",
          "name": "stderr",
          "text": [
            "    Fetching data:  40%|\u001b[38;2;0;128;128m████      \u001b[0m| 162/400 [00:06<00:05, 42.33it/s]"
          ]
        },
        {
          "output_type": "stream",
          "name": "stdout",
          "text": [
            "WRITE PETER\n",
            "WRITE PETER\n",
            "WRITE PETER\n",
            "WRITE PETER\n",
            "WRITE PETER\n",
            "WRITE PETER\n",
            "WRITE PETER\n",
            "WRITE PETER\n",
            "WRITE PETER\n"
          ]
        },
        {
          "output_type": "stream",
          "name": "stderr",
          "text": [
            "    Fetching data:  43%|\u001b[38;2;0;128;128m████▎     \u001b[0m| 172/400 [00:06<00:05, 43.51it/s]"
          ]
        },
        {
          "output_type": "stream",
          "name": "stdout",
          "text": [
            "WRITE PETER\n",
            "WRITE PETER\n",
            "WRITE PETER\n",
            "WRITE PETER\n",
            "WRITE PETER\n",
            "WRITE PETER\n",
            "WRITE PETER\n",
            "WRITE PETER\n",
            "WRITE PETER\n",
            "WRITE PETER\n"
          ]
        },
        {
          "output_type": "stream",
          "name": "stderr",
          "text": [
            "    Fetching data:  46%|\u001b[38;2;0;128;128m████▌     \u001b[0m| 182/400 [00:06<00:04, 43.63it/s]"
          ]
        },
        {
          "output_type": "stream",
          "name": "stdout",
          "text": [
            "WRITE PETER\n",
            "WRITE PETER\n",
            "WRITE PETER\n",
            "WRITE PETER\n",
            "WRITE PETER\n",
            "WRITE PETER\n",
            "WRITE PETER\n",
            "WRITE PETER\n",
            "WRITE PETER\n"
          ]
        },
        {
          "output_type": "stream",
          "name": "stderr",
          "text": [
            "\r    Fetching data:  47%|\u001b[38;2;0;128;128m████▋     \u001b[0m| 187/400 [00:06<00:05, 41.17it/s]"
          ]
        },
        {
          "output_type": "stream",
          "name": "stdout",
          "text": [
            "WRITE PETER\n",
            "WRITE PETER\n",
            "WRITE PETER\n",
            "WRITE PETER\n",
            "WRITE PETER\n",
            "WRITE PETER\n",
            "WRITE PETER\n",
            "WRITE PETER\n"
          ]
        },
        {
          "output_type": "stream",
          "name": "stderr",
          "text": [
            "\r    Fetching data:  48%|\u001b[38;2;0;128;128m████▊     \u001b[0m| 192/400 [00:06<00:05, 40.53it/s]"
          ]
        },
        {
          "output_type": "stream",
          "name": "stdout",
          "text": [
            "WRITE PETER\n",
            "WRITE PETER\n",
            "WRITE PETER\n"
          ]
        },
        {
          "output_type": "stream",
          "name": "stderr",
          "text": [
            "\r    Fetching data:  49%|\u001b[38;2;0;128;128m████▉     \u001b[0m| 197/400 [00:07<00:07, 28.02it/s]"
          ]
        },
        {
          "output_type": "stream",
          "name": "stdout",
          "text": [
            "WRITE PETER\n",
            "WRITE PETER\n",
            "WRITE PETER\n",
            "WRITE PETER\n",
            "WRITE PETER\n",
            "WRITE PETER\n",
            "WRITE PETER\n",
            "WRITE PETER\n",
            "WRITE PETER\n"
          ]
        },
        {
          "output_type": "stream",
          "name": "stderr",
          "text": [
            "    Fetching data:  52%|\u001b[38;2;0;128;128m█████▏    \u001b[0m| 207/400 [00:07<00:05, 34.34it/s]"
          ]
        },
        {
          "output_type": "stream",
          "name": "stdout",
          "text": [
            "WRITE PETER\n",
            "WRITE PETER\n",
            "WRITE PETER\n",
            "WRITE PETER\n",
            "WRITE PETER\n",
            "WRITE PETER\n",
            "WRITE PETER\n",
            "WRITE PETER\n",
            "WRITE PETER\n",
            "WRITE PETER\n"
          ]
        },
        {
          "output_type": "stream",
          "name": "stderr",
          "text": [
            "    Fetching data:  54%|\u001b[38;2;0;128;128m█████▍    \u001b[0m| 217/400 [00:07<00:04, 37.93it/s]"
          ]
        },
        {
          "output_type": "stream",
          "name": "stdout",
          "text": [
            "WRITE PETER\n",
            "WRITE PETER\n",
            "WRITE PETER\n",
            "WRITE PETER\n",
            "WRITE PETER\n",
            "WRITE PETER\n",
            "WRITE PETER\n",
            "WRITE PETER\n"
          ]
        },
        {
          "output_type": "stream",
          "name": "stderr",
          "text": [
            "    Fetching data:  56%|\u001b[38;2;0;128;128m█████▋    \u001b[0m| 226/400 [00:07<00:04, 38.13it/s]"
          ]
        },
        {
          "output_type": "stream",
          "name": "stdout",
          "text": [
            "WRITE PETER\n",
            "WRITE PETER\n",
            "WRITE PETER\n",
            "WRITE PETER\n",
            "WRITE PETER\n",
            "WRITE PETER\n",
            "WRITE PETER\n",
            "WRITE PETER\n",
            "WRITE PETER\n"
          ]
        },
        {
          "output_type": "stream",
          "name": "stderr",
          "text": [
            "    Fetching data:  59%|\u001b[38;2;0;128;128m█████▉    \u001b[0m| 235/400 [00:08<00:04, 38.63it/s]"
          ]
        },
        {
          "output_type": "stream",
          "name": "stdout",
          "text": [
            "WRITE PETER\n",
            "WRITE PETER\n",
            "WRITE PETER\n",
            "WRITE PETER\n",
            "WRITE PETER\n",
            "WRITE PETER\n",
            "WRITE PETER\n",
            "WRITE PETER\n"
          ]
        },
        {
          "output_type": "stream",
          "name": "stderr",
          "text": [
            "    Fetching data:  61%|\u001b[38;2;0;128;128m██████    \u001b[0m| 243/400 [00:08<00:04, 37.07it/s]"
          ]
        },
        {
          "output_type": "stream",
          "name": "stdout",
          "text": [
            "WRITE PETER\n",
            "WRITE PETER\n",
            "WRITE PETER\n",
            "WRITE PETER\n",
            "WRITE PETER\n",
            "WRITE PETER\n",
            "WRITE PETER\n",
            "WRITE PETER\n"
          ]
        },
        {
          "output_type": "stream",
          "name": "stderr",
          "text": [
            "    Fetching data:  63%|\u001b[38;2;0;128;128m██████▎   \u001b[0m| 253/400 [00:08<00:03, 40.25it/s]"
          ]
        },
        {
          "output_type": "stream",
          "name": "stdout",
          "text": [
            "WRITE PETER\n",
            "WRITE PETER\n",
            "WRITE PETER\n",
            "WRITE PETER\n",
            "WRITE PETER\n",
            "WRITE PETER\n",
            "WRITE PETER\n",
            "WRITE PETER\n",
            "WRITE PETER\n"
          ]
        },
        {
          "output_type": "stream",
          "name": "stderr",
          "text": [
            "\r    Fetching data:  64%|\u001b[38;2;0;128;128m██████▍   \u001b[0m| 258/400 [00:08<00:03, 41.31it/s]"
          ]
        },
        {
          "output_type": "stream",
          "name": "stdout",
          "text": [
            "WRITE PETER\n",
            "WRITE PETER\n",
            "WRITE PETER\n",
            "WRITE PETER\n",
            "WRITE PETER\n",
            "WRITE PETER\n",
            "WRITE PETER\n",
            "WRITE PETER\n",
            "WRITE PETER\n"
          ]
        },
        {
          "output_type": "stream",
          "name": "stderr",
          "text": [
            "    Fetching data:  67%|\u001b[38;2;0;128;128m██████▋   \u001b[0m| 268/400 [00:08<00:03, 41.70it/s]"
          ]
        },
        {
          "output_type": "stream",
          "name": "stdout",
          "text": [
            "WRITE PETER\n",
            "WRITE PETER\n",
            "WRITE PETER\n",
            "WRITE PETER\n",
            "WRITE PETER\n",
            "WRITE PETER\n",
            "WRITE PETER\n",
            "WRITE PETER\n",
            "WRITE PETER\n"
          ]
        },
        {
          "output_type": "stream",
          "name": "stderr",
          "text": [
            "    Fetching data:  70%|\u001b[38;2;0;128;128m██████▉   \u001b[0m| 278/400 [00:09<00:02, 41.71it/s]"
          ]
        },
        {
          "output_type": "stream",
          "name": "stdout",
          "text": [
            "WRITE PETER\n",
            "WRITE PETER\n",
            "WRITE PETER\n",
            "WRITE PETER\n",
            "WRITE PETER\n",
            "WRITE PETER\n",
            "WRITE PETER\n",
            "WRITE PETER\n",
            "WRITE PETER\n"
          ]
        },
        {
          "output_type": "stream",
          "name": "stderr",
          "text": [
            "    Fetching data:  72%|\u001b[38;2;0;128;128m███████▏  \u001b[0m| 288/400 [00:09<00:02, 41.89it/s]"
          ]
        },
        {
          "output_type": "stream",
          "name": "stdout",
          "text": [
            "WRITE PETER\n",
            "WRITE PETER\n",
            "WRITE PETER\n",
            "WRITE PETER\n",
            "WRITE PETER\n",
            "WRITE PETER\n",
            "WRITE PETER\n",
            "WRITE PETER\n",
            "WRITE PETER\n",
            "WRITE PETER\n"
          ]
        },
        {
          "output_type": "stream",
          "name": "stderr",
          "text": [
            "    Fetching data:  74%|\u001b[38;2;0;128;128m███████▍  \u001b[0m| 298/400 [00:09<00:02, 41.52it/s]"
          ]
        },
        {
          "output_type": "stream",
          "name": "stdout",
          "text": [
            "WRITE PETER\n",
            "WRITE PETER\n",
            "WRITE PETER\n",
            "WRITE PETER\n",
            "WRITE PETER\n",
            "WRITE PETER\n",
            "WRITE PETER\n",
            "WRITE PETER\n",
            "WRITE PETER\n"
          ]
        },
        {
          "output_type": "stream",
          "name": "stderr",
          "text": [
            "    Fetching data:  77%|\u001b[38;2;0;128;128m███████▋  \u001b[0m| 308/400 [00:09<00:02, 41.53it/s]"
          ]
        },
        {
          "output_type": "stream",
          "name": "stdout",
          "text": [
            "WRITE PETER\n",
            "WRITE PETER\n",
            "WRITE PETER\n",
            "WRITE PETER\n",
            "WRITE PETER\n",
            "WRITE PETER\n",
            "WRITE PETER\n",
            "WRITE PETER\n",
            "WRITE PETER\n"
          ]
        },
        {
          "output_type": "stream",
          "name": "stderr",
          "text": [
            "\r    Fetching data:  78%|\u001b[38;2;0;128;128m███████▊  \u001b[0m| 313/400 [00:09<00:02, 43.29it/s]"
          ]
        },
        {
          "output_type": "stream",
          "name": "stdout",
          "text": [
            "WRITE PETER\n",
            "WRITE PETER\n",
            "WRITE PETER\n",
            "WRITE PETER\n",
            "WRITE PETER\n",
            "WRITE PETER\n",
            "WRITE PETER\n",
            "WRITE PETER\n",
            "WRITE PETER\n"
          ]
        },
        {
          "output_type": "stream",
          "name": "stderr",
          "text": [
            "    Fetching data:  81%|\u001b[38;2;0;128;128m████████  \u001b[0m| 323/400 [00:10<00:01, 43.65it/s]"
          ]
        },
        {
          "output_type": "stream",
          "name": "stdout",
          "text": [
            "WRITE PETER\n",
            "WRITE PETER\n",
            "WRITE PETER\n",
            "WRITE PETER\n",
            "WRITE PETER\n",
            "WRITE PETER\n",
            "WRITE PETER\n",
            "WRITE PETER\n",
            "WRITE PETER\n",
            "WRITE PETER\n"
          ]
        },
        {
          "output_type": "stream",
          "name": "stderr",
          "text": [
            "    Fetching data:  83%|\u001b[38;2;0;128;128m████████▎ \u001b[0m| 333/400 [00:10<00:01, 42.30it/s]"
          ]
        },
        {
          "output_type": "stream",
          "name": "stdout",
          "text": [
            "WRITE PETER\n",
            "WRITE PETER\n",
            "WRITE PETER\n",
            "WRITE PETER\n",
            "WRITE PETER\n",
            "WRITE PETER\n",
            "WRITE PETER\n",
            "WRITE PETER\n",
            "WRITE PETER\n"
          ]
        },
        {
          "output_type": "stream",
          "name": "stderr",
          "text": [
            "    Fetching data:  86%|\u001b[38;2;0;128;128m████████▌ \u001b[0m| 343/400 [00:10<00:01, 43.34it/s]"
          ]
        },
        {
          "output_type": "stream",
          "name": "stdout",
          "text": [
            "WRITE PETER\n",
            "WRITE PETER\n",
            "WRITE PETER\n",
            "WRITE PETER\n",
            "WRITE PETER\n",
            "WRITE PETER\n",
            "WRITE PETER\n",
            "WRITE PETER\n",
            "WRITE PETER\n"
          ]
        },
        {
          "output_type": "stream",
          "name": "stderr",
          "text": [
            "    Fetching data:  88%|\u001b[38;2;0;128;128m████████▊ \u001b[0m| 353/400 [00:10<00:01, 42.00it/s]"
          ]
        },
        {
          "output_type": "stream",
          "name": "stdout",
          "text": [
            "WRITE PETER\n",
            "WRITE PETER\n",
            "WRITE PETER\n",
            "WRITE PETER\n",
            "WRITE PETER\n",
            "WRITE PETER\n",
            "WRITE PETER\n",
            "WRITE PETER\n"
          ]
        },
        {
          "output_type": "stream",
          "name": "stderr",
          "text": [
            "\r    Fetching data:  90%|\u001b[38;2;0;128;128m████████▉ \u001b[0m| 358/400 [00:11<00:01, 41.65it/s]"
          ]
        },
        {
          "output_type": "stream",
          "name": "stdout",
          "text": [
            "WRITE PETER\n",
            "WRITE PETER\n",
            "WRITE PETER\n",
            "WRITE PETER\n",
            "WRITE PETER\n",
            "WRITE PETER\n",
            "WRITE PETER\n",
            "WRITE PETER\n"
          ]
        },
        {
          "output_type": "stream",
          "name": "stderr",
          "text": [
            "    Fetching data:  92%|\u001b[38;2;0;128;128m█████████▏\u001b[0m| 368/400 [00:11<00:00, 40.77it/s]"
          ]
        },
        {
          "output_type": "stream",
          "name": "stdout",
          "text": [
            "WRITE PETER\n",
            "WRITE PETER\n",
            "WRITE PETER\n",
            "WRITE PETER\n",
            "WRITE PETER\n",
            "WRITE PETER\n",
            "WRITE PETER\n",
            "WRITE PETER\n",
            "WRITE PETER\n"
          ]
        },
        {
          "output_type": "stream",
          "name": "stderr",
          "text": [
            "    Fetching data:  94%|\u001b[38;2;0;128;128m█████████▍\u001b[0m| 378/400 [00:11<00:00, 43.05it/s]"
          ]
        },
        {
          "output_type": "stream",
          "name": "stdout",
          "text": [
            "WRITE PETER\n",
            "WRITE PETER\n",
            "WRITE PETER\n",
            "WRITE PETER\n",
            "WRITE PETER\n",
            "WRITE PETER\n",
            "WRITE PETER\n",
            "WRITE PETER\n",
            "WRITE PETER\n",
            "WRITE PETER\n"
          ]
        },
        {
          "output_type": "stream",
          "name": "stderr",
          "text": [
            "    Fetching data:  97%|\u001b[38;2;0;128;128m█████████▋\u001b[0m| 388/400 [00:11<00:00, 40.91it/s]"
          ]
        },
        {
          "output_type": "stream",
          "name": "stdout",
          "text": [
            "WRITE PETER\n",
            "WRITE PETER\n",
            "WRITE PETER\n",
            "WRITE PETER\n",
            "WRITE PETER\n",
            "WRITE PETER\n",
            "WRITE PETER\n",
            "WRITE PETER\n"
          ]
        },
        {
          "output_type": "stream",
          "name": "stderr",
          "text": [
            "    Fetching data: 100%|\u001b[38;2;0;128;128m█████████▉\u001b[0m| 398/400 [00:11<00:00, 42.06it/s]"
          ]
        },
        {
          "output_type": "stream",
          "name": "stdout",
          "text": [
            "WRITE PETER\n",
            "WRITE PETER\n",
            "WRITE PETER\n",
            "WRITE PETER\n",
            "WRITE PETER\n",
            "WRITE PETER\n",
            "WRITE PETER\n",
            "WRITE PETER\n",
            "WRITE PETER\n",
            "WRITE PETER\n"
          ]
        },
        {
          "output_type": "stream",
          "name": "stderr",
          "text": [
            "\r    Fetching data: 100%|\u001b[38;2;0;128;128m██████████\u001b[0m| 400/400 [00:12<00:00, 33.18it/s]\n"
          ]
        },
        {
          "output_type": "stream",
          "name": "stdout",
          "text": [
            "WRITE PETER\n"
          ]
        }
      ]
    },
    {
      "cell_type": "code",
      "source": [],
      "metadata": {
        "id": "BiUOGh3bLvgM"
      },
      "execution_count": 15,
      "outputs": []
    },
    {
      "cell_type": "code",
      "source": [
        "### Generate input.json file\n",
        "import json\n",
        "\n",
        "input={\n",
        "    \"General\": {\n",
        "        \"interface\": \"DFTB\",\n",
        "        \"merging\"  : \"True\"\n",
        "    },\n",
        "    \"Twobody\": {\n",
        "                \"Xx-Xx\": {\n",
        "                        \"Rcut\": 6.0,\n",
        "                        \"Resolution\": 0.01,\n",
        "                        \"Swtype\": \"rep\",\n",
        "                        \"const_type\" : \"Mono\"\n",
        "                }\n",
        "        }\n",
        "}\n",
        "#SAVE TO FILE\n",
        "with open('CCS_input.json', 'w') as f:\n",
        "    json.dump(input, f, indent=8)"
      ],
      "metadata": {
        "id": "sfHuyRlpH07E"
      },
      "execution_count": 103,
      "outputs": []
    },
    {
      "cell_type": "code",
      "source": [
        "#RUN FIT\n",
        "## %%capture\n",
        "from ccs_fit import ccs_fit\n",
        "\n",
        "ccs_fit(\"CCS_input.json\")"
      ],
      "metadata": {
        "colab": {
          "base_uri": "https://localhost:8080/"
        },
        "id": "K4zOCdKRHhD5",
        "outputId": "8616958b-c314-43ba-da6e-71713752dc24"
      },
      "execution_count": 104,
      "outputs": [
        {
          "output_type": "stream",
          "name": "stdout",
          "text": [
            "    Generating one-body information from training-set.\n",
            "        Added elements:  ['C', 'H', 'Li', 'O']\n",
            "    Generating two-body potentials from one-body information.\n",
            "    Adding pair: C-C\n",
            "    Adding pair: C-H\n",
            "    Adding pair: C-Li\n",
            "    Adding pair: C-O\n",
            "    Adding pair: H-H\n",
            "    Adding pair: H-Li\n",
            "    Adding pair: H-O\n",
            "    Adding pair: Li-Li\n",
            "    Adding pair: Li-O\n",
            "    Adding pair: O-O\n",
            "    Applying monotonous constraints for pair:  C-C\n",
            "    Applying monotonous constraints for pair:  C-H\n",
            "    Applying monotonous constraints for pair:  C-Li\n",
            "    Applying monotonous constraints for pair:  C-O\n",
            "    Applying monotonous constraints for pair:  H-H\n",
            "    Applying monotonous constraints for pair:  H-Li\n",
            "    Applying monotonous constraints for pair:  H-O\n",
            "    Applying monotonous constraints for pair:  Li-Li\n",
            "    Applying monotonous constraints for pair:  Li-O\n",
            "    Applying monotonous constraints for pair:  O-O\n",
            "    Merging interval for pair C-C. Number of knots reduced from 365 to 203. \n",
            "    Merging interval for pair C-H. Number of knots reduced from 499 to 336. \n",
            "    Merging interval for pair C-Li. Number of knots reduced from 421 to 389. \n",
            "    Merging interval for pair C-O. Number of knots reduced from 447 to 363. \n",
            "    Merging interval for pair H-H. Number of knots reduced from 435 to 194. \n",
            "    Merging interval for pair H-Li. Number of knots reduced from 504 to 367. \n",
            "    Merging interval for pair H-O. Number of knots reduced from 424 to 391. \n",
            "    Merging interval for pair Li-Li. Number of knots reduced from 285 to 36. \n",
            "    Merging interval for pair Li-O. Number of knots reduced from 461 to 389. \n",
            "    Merging interval for pair O-O. Number of knots reduced from 399 to 301. \n",
            "    There is linear dependence in stochiometry matrix!\n",
            "    Removing onebody term: H\n",
            "    There is linear dependence in stochiometry matrix!\n",
            "    Removing onebody term: O\n"
          ]
        },
        {
          "output_type": "stream",
          "name": "stderr",
          "text": [
            "    Finding optimum switch: 100%|\u001b[38;2;128;0;128m██████████\u001b[0m| 1/1 [00:44<00:00, 44.89s/it]\n"
          ]
        },
        {
          "output_type": "stream",
          "name": "stdout",
          "text": [
            "    The best switch is (203, 336, 389, 363, 194, 367, 391, 36, 389, 301) with mse: 228.07, corresponding to distances of [3.32 4.33 5.69 4.67 3.33 4.64 5.64 3.46 5.29 5.03] Å for element pairs ['C-C', 'C-H', 'C-Li', 'C-O', 'H-H', 'H-Li', 'H-O', 'Li-Li', 'Li-O', 'O-O'].\n",
            "    Final root mean square error in energy:  0.028978591538238088  (eV/atoms) [NOTE: Only elements specified in Onebody are considered in atom count!]\n"
          ]
        }
      ]
    },
    {
      "cell_type": "code",
      "source": [],
      "metadata": {
        "id": "-gWdpmFLZeF0"
      },
      "execution_count": 58,
      "outputs": []
    },
    {
      "cell_type": "code",
      "source": [
        "import matplotlib.pyplot as plt\n",
        "err=np.loadtxt(\"CCS_error.out\")\n",
        "plt.xlabel('Reference energy (eV)')\n",
        "plt.ylabel('Validation energy (eV)')\n",
        "plt.plot( [min(err[:,0]),max(err[:,0])],[min(err[:,0]),max(err[:,0])],'--',color='black'  )\n",
        "plt.scatter(err[:,0],err[:,1],facecolors='none', edgecolors='red')\n",
        "plt.show()\n",
        "plt.xlabel('Reference energy (eV)')\n",
        "plt.ylabel('Error in fit (eV)')\n",
        "plt.scatter(err[:,0],err[:,2],facecolors='none', edgecolors='red')\n",
        "plt.show()\n"
      ],
      "metadata": {
        "colab": {
          "base_uri": "https://localhost:8080/",
          "height": 541
        },
        "id": "WYM2DJlPIlS3",
        "outputId": "7e006a73-5cdd-4ae4-cbaa-8fd9fcf42dde"
      },
      "execution_count": 105,
      "outputs": [
        {
          "output_type": "display_data",
          "data": {
            "text/plain": [
              "<Figure size 432x288 with 1 Axes>"
            ],
            "image/png": "[encoded data removed]"
          },
          "metadata": {
            "needs_background": "light"
          }
        },
        {
          "output_type": "display_data",
          "data": {
            "text/plain": [
              "<Figure size 432x288 with 1 Axes>"
            ],
            "image/png": "[encoded data removed]"
          },
          "metadata": {
            "needs_background": "light"
          }
        }
      ]
    },
    {
      "cell_type": "code",
      "source": [
        "import matplotlib.pyplot as plt\n",
        "err=np.loadtxt(\"CCS_error_forces.out\")\n",
        "plt.xlabel('Reference forces (eV)')\n",
        "plt.ylabel('Validation forces (eV)')\n",
        "plt.plot( [min(err[:,0]),max(err[:,0])],[min(err[:,0]),max(err[:,0])],'--',color='black'  )\n",
        "plt.scatter(err[:,0],err[:,1],facecolors='none', edgecolors='red')\n",
        "plt.show()\n",
        "plt.xlabel('Reference energy (eV)')\n",
        "plt.ylabel('Error in fit (eV)')\n",
        "plt.scatter(err[:,0],err[:,2],facecolors='none', edgecolors='red')\n",
        "plt.show()"
      ],
      "metadata": {
        "colab": {
          "base_uri": "https://localhost:8080/",
          "height": 541
        },
        "id": "d12_MCmHaObR",
        "outputId": "94ccc308-876b-4d28-89ab-b65ade07cf9c"
      },
      "execution_count": 106,
      "outputs": [
        {
          "output_type": "display_data",
          "data": {
            "text/plain": [
              "<Figure size 432x288 with 1 Axes>"
            ],
            "image/png": "[encoded data removed]"
          },
          "metadata": {
            "needs_background": "light"
          }
        },
        {
          "output_type": "display_data",
          "data": {
            "text/plain": [
              "<Figure size 432x288 with 1 Axes>"
            ],
            "image/png": "[encoded data removed]"
          },
          "metadata": {
            "needs_background": "light"
          }
        }
      ]
    },
    {
      "cell_type": "code",
      "source": [
        "try:\n",
        "  os.mkdir('xTBpCCS')\n",
        "except: \n",
        "  pass \n",
        "os.chdir('xTBpCCS')"
      ],
      "metadata": {
        "id": "smPzus-raeaE"
      },
      "execution_count": 114,
      "outputs": []
    },
    {
      "cell_type": "code",
      "source": [],
      "metadata": {
        "id": "jVW5f76EbW_L"
      },
      "execution_count": 113,
      "outputs": []
    },
    {
      "cell_type": "code",
      "source": [
        "%%capture\n",
        "import json\n",
        "\n",
        "db=connect('../DFT_DB_1.db')\n",
        "db_new=connect('DFTB_CCS_DB.db')\n",
        "\n",
        "with open('../CCS_params.json', 'r') as f:\n",
        "    CCS_params = json.load(f)\n",
        "\n",
        "for row in db.select():\n",
        "  atoms=row.toatoms()\n",
        "  print(atoms)\n",
        "  atoms.calc=setup_model_xtb_ccs(atoms, CCS_params)\n",
        "  atoms.get_potential_energy()\n",
        "  atoms.get_forces()\n",
        "  db_new.write(atoms)\n",
        "  print('Atom id:',row.id,' added')\n",
        "  "
      ],
      "metadata": {
        "id": "NJLEwwzbaa80"
      },
      "execution_count": 115,
      "outputs": []
    },
    {
      "cell_type": "code",
      "source": [
        "os.chdir(base)\n",
        "Databases = ['DFT_DB_1.db', 'xTB_run/DFTB_DB.db', 'xTBpCCS/DFTB_CCS_DB.db']\n",
        "\n",
        "dd=pd.DataFrame()\n",
        "for database in Databases:\n",
        "  db=connect(database)\n",
        "  Energy=[]\n",
        "  for row in db.select(): \n",
        "      Energy.append(row.energy)\n",
        "  dd[database]=Energy\n",
        "\n",
        "\n",
        "dd.plot.scatter(x=Databases[0],y=Databases[1])\n",
        "dd.plot.scatter(x=Databases[0],y=Databases[2])"
      ],
      "metadata": {
        "colab": {
          "base_uri": "https://localhost:8080/",
          "height": 561
        },
        "id": "G8n1pNz5caKD",
        "outputId": "95b00685-b1ee-454f-c483-91bf5ba482df"
      },
      "execution_count": 118,
      "outputs": [
        {
          "output_type": "execute_result",
          "data": {
            "text/plain": [
              "<matplotlib.axes._subplots.AxesSubplot at 0x7facda580d90>"
            ]
          },
          "metadata": {},
          "execution_count": 118
        },
        {
          "output_type": "display_data",
          "data": {
            "text/plain": [
              "<Figure size 432x288 with 1 Axes>"
            ],
            "image/png": "[encoded data removed]"
          },
          "metadata": {
            "needs_background": "light"
          }
        },
        {
          "output_type": "display_data",
          "data": {
            "text/plain": [
              "<Figure size 432x288 with 1 Axes>"
            ],
            "image/png": "[encoded data removed]"
          },
          "metadata": {
            "needs_background": "light"
          }
        }
      ]
    },
    {
      "cell_type": "code",
      "source": [
        "x = dd[Databases[0]]\n",
        "y = dd[Databases[1]]\n",
        "big = x>-67.5\n",
        "small = x<-67.5\n",
        "y_new = y.copy()\n",
        "y_new[big] = y[big] - y[big].mean() + x[big].mean()\n",
        "y_new[small] = y[small] - y[small].mean() + x[small].mean()"
      ],
      "metadata": {
        "id": "VehYHVj3sIwz"
      },
      "execution_count": 137,
      "outputs": []
    },
    {
      "cell_type": "code",
      "source": [
        "dd.plot.scatter(x=Databases[0],y=Databases[2])\n",
        "ax = plt.gca()\n",
        "ax.scatter(x, y_new, c='r')\n"
      ],
      "metadata": {
        "colab": {
          "base_uri": "https://localhost:8080/",
          "height": 297
        },
        "id": "PYNjwRCzs2Sz",
        "outputId": "5bb6845f-b1f2-42d7-e8d1-0e0db33bc654"
      },
      "execution_count": 139,
      "outputs": [
        {
          "output_type": "execute_result",
          "data": {
            "text/plain": [
              "<matplotlib.collections.PathCollection at 0x7facda000e50>"
            ]
          },
          "metadata": {},
          "execution_count": 139
        },
        {
          "output_type": "display_data",
          "data": {
            "text/plain": [
              "<Figure size 432x288 with 1 Axes>"
            ],
            "image/png": "[encoded data removed]"
          },
          "metadata": {
            "needs_background": "light"
          }
        }
      ]
    },
    {
      "cell_type": "code",
      "source": [],
      "metadata": {
        "id": "5DljAVXSu_VQ"
      },
      "execution_count": null,
      "outputs": []
    }
  ]
}